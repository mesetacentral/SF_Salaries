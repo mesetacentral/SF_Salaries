{
 "cells": [
  {
   "cell_type": "markdown",
   "id": "3380c9f5-c940-42ac-911b-07220a875052",
   "metadata": {
    "tags": []
   },
   "source": [
    "### Introduction"
   ]
  },
  {
   "cell_type": "markdown",
   "id": "3d3dcab8-c3de-47cf-8c79-da7b86eb0429",
   "metadata": {},
   "source": [
    "How much is an hour of work worth? It depends. It depends on so many factors that it would make this problem unfeasable for an undergrad with a laptop. (Un)fortunately that kind of information is unavailable, so I will build a simpler model that will try to predict an employee's salary based on their name, the job's title, and other attributes derived from those two. "
   ]
  },
  {
   "cell_type": "markdown",
   "id": "d0b4b42d-cc90-4ccc-9689-040d56fd58c9",
   "metadata": {},
   "source": [
    "This is an NLP problem"
   ]
  },
  {
   "cell_type": "markdown",
   "id": "f255ed61-db9e-42b7-bf73-d940e26920f1",
   "metadata": {
    "tags": []
   },
   "source": [
    "#### Dependencies"
   ]
  },
  {
   "cell_type": "code",
   "execution_count": 2,
   "id": "c75d789e-5a6c-4509-90f8-d950fd0915f7",
   "metadata": {
    "tags": []
   },
   "outputs": [],
   "source": [
    "import pandas as pd\n",
    "import numpy as np\n",
    "from collections import Counter\n",
    "import matplotlib.pyplot as plt\n",
    "import seaborn as sns\n",
    "\n",
    "from sklearn.feature_extraction.text import TfidfVectorizer\n",
    "from sklearn.metrics.pairwise import cosine_similarity"
   ]
  },
  {
   "cell_type": "markdown",
   "id": "8a1480e1-719a-48ec-81e3-cab1cdb1aa73",
   "metadata": {
    "tags": []
   },
   "source": [
    "### Data information"
   ]
  },
  {
   "cell_type": "markdown",
   "id": "66f0ee0e-89ec-4393-bcbe-2467b1d69fae",
   "metadata": {
    "tags": []
   },
   "source": [
    "#### Data description"
   ]
  },
  {
   "cell_type": "raw",
   "id": "f8774a4e-fe51-4d3e-b9fc-852da1062fba",
   "metadata": {},
   "source": [
    "https://www.kaggle.com/kaggle/sf-salaries"
   ]
  },
  {
   "cell_type": "code",
   "execution_count": 8,
   "id": "9645b00b-d927-4a0b-87d9-641c8a8720f3",
   "metadata": {},
   "outputs": [
    {
     "name": "stderr",
     "output_type": "stream",
     "text": [
      "/home/carlos/.local/lib/python3.8/site-packages/IPython/core/interactiveshell.py:3441: DtypeWarning: Columns (3,4,5,6,12) have mixed types.Specify dtype option on import or set low_memory=False.\n",
      "  exec(code_obj, self.user_global_ns, self.user_ns)\n"
     ]
    }
   ],
   "source": [
    "df = pd.read_csv(r\"data/Salaries.csv\", header=0, delimiter=',')"
   ]
  },
  {
   "cell_type": "code",
   "execution_count": 3,
   "id": "a54cacb2-da35-4a8c-9c1d-7229bf64f3d9",
   "metadata": {},
   "outputs": [
    {
     "data": {
      "text/html": [
       "<div>\n",
       "<style scoped>\n",
       "    .dataframe tbody tr th:only-of-type {\n",
       "        vertical-align: middle;\n",
       "    }\n",
       "\n",
       "    .dataframe tbody tr th {\n",
       "        vertical-align: top;\n",
       "    }\n",
       "\n",
       "    .dataframe thead th {\n",
       "        text-align: right;\n",
       "    }\n",
       "</style>\n",
       "<table border=\"1\" class=\"dataframe\">\n",
       "  <thead>\n",
       "    <tr style=\"text-align: right;\">\n",
       "      <th></th>\n",
       "      <th>Id</th>\n",
       "      <th>EmployeeName</th>\n",
       "      <th>JobTitle</th>\n",
       "      <th>BasePay</th>\n",
       "      <th>OvertimePay</th>\n",
       "      <th>OtherPay</th>\n",
       "      <th>Benefits</th>\n",
       "      <th>TotalPay</th>\n",
       "      <th>TotalPayBenefits</th>\n",
       "      <th>Year</th>\n",
       "      <th>Notes</th>\n",
       "      <th>Agency</th>\n",
       "      <th>Status</th>\n",
       "    </tr>\n",
       "  </thead>\n",
       "  <tbody>\n",
       "    <tr>\n",
       "      <th>0</th>\n",
       "      <td>1</td>\n",
       "      <td>NATHANIEL FORD</td>\n",
       "      <td>GENERAL MANAGER-METROPOLITAN TRANSIT AUTHORITY</td>\n",
       "      <td>167411.18</td>\n",
       "      <td>0.0</td>\n",
       "      <td>400184.25</td>\n",
       "      <td>NaN</td>\n",
       "      <td>567595.43</td>\n",
       "      <td>567595.43</td>\n",
       "      <td>2011</td>\n",
       "      <td>NaN</td>\n",
       "      <td>San Francisco</td>\n",
       "      <td>NaN</td>\n",
       "    </tr>\n",
       "    <tr>\n",
       "      <th>1</th>\n",
       "      <td>2</td>\n",
       "      <td>GARY JIMENEZ</td>\n",
       "      <td>CAPTAIN III (POLICE DEPARTMENT)</td>\n",
       "      <td>155966.02</td>\n",
       "      <td>245131.88</td>\n",
       "      <td>137811.38</td>\n",
       "      <td>NaN</td>\n",
       "      <td>538909.28</td>\n",
       "      <td>538909.28</td>\n",
       "      <td>2011</td>\n",
       "      <td>NaN</td>\n",
       "      <td>San Francisco</td>\n",
       "      <td>NaN</td>\n",
       "    </tr>\n",
       "    <tr>\n",
       "      <th>2</th>\n",
       "      <td>3</td>\n",
       "      <td>ALBERT PARDINI</td>\n",
       "      <td>CAPTAIN III (POLICE DEPARTMENT)</td>\n",
       "      <td>212739.13</td>\n",
       "      <td>106088.18</td>\n",
       "      <td>16452.6</td>\n",
       "      <td>NaN</td>\n",
       "      <td>335279.91</td>\n",
       "      <td>335279.91</td>\n",
       "      <td>2011</td>\n",
       "      <td>NaN</td>\n",
       "      <td>San Francisco</td>\n",
       "      <td>NaN</td>\n",
       "    </tr>\n",
       "    <tr>\n",
       "      <th>3</th>\n",
       "      <td>4</td>\n",
       "      <td>CHRISTOPHER CHONG</td>\n",
       "      <td>WIRE ROPE CABLE MAINTENANCE MECHANIC</td>\n",
       "      <td>77916.0</td>\n",
       "      <td>56120.71</td>\n",
       "      <td>198306.9</td>\n",
       "      <td>NaN</td>\n",
       "      <td>332343.61</td>\n",
       "      <td>332343.61</td>\n",
       "      <td>2011</td>\n",
       "      <td>NaN</td>\n",
       "      <td>San Francisco</td>\n",
       "      <td>NaN</td>\n",
       "    </tr>\n",
       "    <tr>\n",
       "      <th>4</th>\n",
       "      <td>5</td>\n",
       "      <td>PATRICK GARDNER</td>\n",
       "      <td>DEPUTY CHIEF OF DEPARTMENT,(FIRE DEPARTMENT)</td>\n",
       "      <td>134401.6</td>\n",
       "      <td>9737.0</td>\n",
       "      <td>182234.59</td>\n",
       "      <td>NaN</td>\n",
       "      <td>326373.19</td>\n",
       "      <td>326373.19</td>\n",
       "      <td>2011</td>\n",
       "      <td>NaN</td>\n",
       "      <td>San Francisco</td>\n",
       "      <td>NaN</td>\n",
       "    </tr>\n",
       "  </tbody>\n",
       "</table>\n",
       "</div>"
      ],
      "text/plain": [
       "   Id       EmployeeName                                        JobTitle  \\\n",
       "0   1     NATHANIEL FORD  GENERAL MANAGER-METROPOLITAN TRANSIT AUTHORITY   \n",
       "1   2       GARY JIMENEZ                 CAPTAIN III (POLICE DEPARTMENT)   \n",
       "2   3     ALBERT PARDINI                 CAPTAIN III (POLICE DEPARTMENT)   \n",
       "3   4  CHRISTOPHER CHONG            WIRE ROPE CABLE MAINTENANCE MECHANIC   \n",
       "4   5    PATRICK GARDNER    DEPUTY CHIEF OF DEPARTMENT,(FIRE DEPARTMENT)   \n",
       "\n",
       "     BasePay OvertimePay   OtherPay Benefits   TotalPay  TotalPayBenefits  \\\n",
       "0  167411.18         0.0  400184.25      NaN  567595.43         567595.43   \n",
       "1  155966.02   245131.88  137811.38      NaN  538909.28         538909.28   \n",
       "2  212739.13   106088.18    16452.6      NaN  335279.91         335279.91   \n",
       "3    77916.0    56120.71   198306.9      NaN  332343.61         332343.61   \n",
       "4   134401.6      9737.0  182234.59      NaN  326373.19         326373.19   \n",
       "\n",
       "   Year  Notes         Agency Status  \n",
       "0  2011    NaN  San Francisco    NaN  \n",
       "1  2011    NaN  San Francisco    NaN  \n",
       "2  2011    NaN  San Francisco    NaN  \n",
       "3  2011    NaN  San Francisco    NaN  \n",
       "4  2011    NaN  San Francisco    NaN  "
      ]
     },
     "execution_count": 3,
     "metadata": {},
     "output_type": "execute_result"
    }
   ],
   "source": [
    "df.head()"
   ]
  },
  {
   "cell_type": "code",
   "execution_count": 4,
   "id": "6a18c710-1203-47f2-891d-1f0ac1689d6b",
   "metadata": {},
   "outputs": [
    {
     "data": {
      "text/html": [
       "<div>\n",
       "<style scoped>\n",
       "    .dataframe tbody tr th:only-of-type {\n",
       "        vertical-align: middle;\n",
       "    }\n",
       "\n",
       "    .dataframe tbody tr th {\n",
       "        vertical-align: top;\n",
       "    }\n",
       "\n",
       "    .dataframe thead th {\n",
       "        text-align: right;\n",
       "    }\n",
       "</style>\n",
       "<table border=\"1\" class=\"dataframe\">\n",
       "  <thead>\n",
       "    <tr style=\"text-align: right;\">\n",
       "      <th></th>\n",
       "      <th>Id</th>\n",
       "      <th>TotalPay</th>\n",
       "      <th>TotalPayBenefits</th>\n",
       "      <th>Year</th>\n",
       "      <th>Notes</th>\n",
       "    </tr>\n",
       "  </thead>\n",
       "  <tbody>\n",
       "    <tr>\n",
       "      <th>count</th>\n",
       "      <td>148654.000000</td>\n",
       "      <td>148654.000000</td>\n",
       "      <td>148654.000000</td>\n",
       "      <td>148654.000000</td>\n",
       "      <td>0.0</td>\n",
       "    </tr>\n",
       "    <tr>\n",
       "      <th>mean</th>\n",
       "      <td>74327.500000</td>\n",
       "      <td>74768.321972</td>\n",
       "      <td>93692.554811</td>\n",
       "      <td>2012.522643</td>\n",
       "      <td>NaN</td>\n",
       "    </tr>\n",
       "    <tr>\n",
       "      <th>std</th>\n",
       "      <td>42912.857795</td>\n",
       "      <td>50517.005274</td>\n",
       "      <td>62793.533483</td>\n",
       "      <td>1.117538</td>\n",
       "      <td>NaN</td>\n",
       "    </tr>\n",
       "    <tr>\n",
       "      <th>min</th>\n",
       "      <td>1.000000</td>\n",
       "      <td>-618.130000</td>\n",
       "      <td>-618.130000</td>\n",
       "      <td>2011.000000</td>\n",
       "      <td>NaN</td>\n",
       "    </tr>\n",
       "    <tr>\n",
       "      <th>25%</th>\n",
       "      <td>37164.250000</td>\n",
       "      <td>36168.995000</td>\n",
       "      <td>44065.650000</td>\n",
       "      <td>2012.000000</td>\n",
       "      <td>NaN</td>\n",
       "    </tr>\n",
       "    <tr>\n",
       "      <th>50%</th>\n",
       "      <td>74327.500000</td>\n",
       "      <td>71426.610000</td>\n",
       "      <td>92404.090000</td>\n",
       "      <td>2013.000000</td>\n",
       "      <td>NaN</td>\n",
       "    </tr>\n",
       "    <tr>\n",
       "      <th>75%</th>\n",
       "      <td>111490.750000</td>\n",
       "      <td>105839.135000</td>\n",
       "      <td>132876.450000</td>\n",
       "      <td>2014.000000</td>\n",
       "      <td>NaN</td>\n",
       "    </tr>\n",
       "    <tr>\n",
       "      <th>max</th>\n",
       "      <td>148654.000000</td>\n",
       "      <td>567595.430000</td>\n",
       "      <td>567595.430000</td>\n",
       "      <td>2014.000000</td>\n",
       "      <td>NaN</td>\n",
       "    </tr>\n",
       "  </tbody>\n",
       "</table>\n",
       "</div>"
      ],
      "text/plain": [
       "                  Id       TotalPay  TotalPayBenefits           Year  Notes\n",
       "count  148654.000000  148654.000000     148654.000000  148654.000000    0.0\n",
       "mean    74327.500000   74768.321972      93692.554811    2012.522643    NaN\n",
       "std     42912.857795   50517.005274      62793.533483       1.117538    NaN\n",
       "min         1.000000    -618.130000       -618.130000    2011.000000    NaN\n",
       "25%     37164.250000   36168.995000      44065.650000    2012.000000    NaN\n",
       "50%     74327.500000   71426.610000      92404.090000    2013.000000    NaN\n",
       "75%    111490.750000  105839.135000     132876.450000    2014.000000    NaN\n",
       "max    148654.000000  567595.430000     567595.430000    2014.000000    NaN"
      ]
     },
     "execution_count": 4,
     "metadata": {},
     "output_type": "execute_result"
    }
   ],
   "source": [
    "df.describe()"
   ]
  },
  {
   "cell_type": "code",
   "execution_count": 5,
   "id": "ba4b506c-20fb-4e92-b7ad-cf5fa2276ee0",
   "metadata": {},
   "outputs": [
    {
     "name": "stdout",
     "output_type": "stream",
     "text": [
      "<class 'pandas.core.frame.DataFrame'>\n",
      "RangeIndex: 148654 entries, 0 to 148653\n",
      "Data columns (total 13 columns):\n",
      " #   Column            Non-Null Count   Dtype  \n",
      "---  ------            --------------   -----  \n",
      " 0   Id                148654 non-null  int64  \n",
      " 1   EmployeeName      148654 non-null  object \n",
      " 2   JobTitle          148654 non-null  object \n",
      " 3   BasePay           148049 non-null  object \n",
      " 4   OvertimePay       148654 non-null  object \n",
      " 5   OtherPay          148654 non-null  object \n",
      " 6   Benefits          112495 non-null  object \n",
      " 7   TotalPay          148654 non-null  float64\n",
      " 8   TotalPayBenefits  148654 non-null  float64\n",
      " 9   Year              148654 non-null  int64  \n",
      " 10  Notes             0 non-null       float64\n",
      " 11  Agency            148654 non-null  object \n",
      " 12  Status            38119 non-null   object \n",
      "dtypes: float64(3), int64(2), object(8)\n",
      "memory usage: 14.7+ MB\n"
     ]
    }
   ],
   "source": [
    "df.info()"
   ]
  },
  {
   "cell_type": "markdown",
   "id": "acca376b-c753-4059-a453-b3d6837bed6b",
   "metadata": {
    "jp-MarkdownHeadingCollapsed": true,
    "tags": []
   },
   "source": [
    "#### Data clean up"
   ]
  },
  {
   "cell_type": "markdown",
   "id": "f2cb4607-7ce1-4054-b937-de12b7f51abd",
   "metadata": {},
   "source": [
    "We could start by dropping the 'Id' column because it adds no information to any employee, and the'Notes' column, since it only has null values. Then we took a look at 'Agency' and found out that the only value is 'San Francisco', so that one could be dropped as well. We also thought that since there are south of 1000 'BasePay' null values, we could delete those rows without hesitation."
   ]
  },
  {
   "cell_type": "code",
   "execution_count": 6,
   "id": "8947a82e-e047-4340-ae69-7e77e5b9b2b8",
   "metadata": {},
   "outputs": [
    {
     "data": {
      "text/plain": [
       "<AxesSubplot:>"
      ]
     },
     "execution_count": 6,
     "metadata": {},
     "output_type": "execute_result"
    },
    {
     "data": {
      "image/png": "[encoded data removed]",
      "text/plain": [
       "<Figure size 432x288 with 1 Axes>"
      ]
     },
     "metadata": {
      "needs_background": "light"
     },
     "output_type": "display_data"
    }
   ],
   "source": [
    "df.Agency.hist()"
   ]
  },
  {
   "cell_type": "code",
   "execution_count": 7,
   "id": "6301064e-2a9b-452a-b0b1-33e9ce6ba9ea",
   "metadata": {},
   "outputs": [],
   "source": [
    "df = df.drop(['Notes', 'Agency', 'Id', 'Status'], axis=1)\n",
    "df = df[df.BasePay.notnull()]"
   ]
  },
  {
   "cell_type": "markdown",
   "id": "434e2ed5-8d22-4292-847a-a79a8806b898",
   "metadata": {},
   "source": [
    "After that, we wondered why some columns such as 'BasePay', 'OvertimePay', 'OtherPay' or 'Benefits' had an object data type. We discovered that 4 entries have value 'Not provided'. Since those rows gave us absolutely no data, we dropped them and changed the data types."
   ]
  },
  {
   "cell_type": "code",
   "execution_count": 8,
   "id": "f1c398da-fed7-4053-a598-076583bd601b",
   "metadata": {},
   "outputs": [
    {
     "data": {
      "text/plain": [
       "4"
      ]
     },
     "execution_count": 8,
     "metadata": {},
     "output_type": "execute_result"
    }
   ],
   "source": [
    "df['BasePay'].eq('Not Provided').sum()"
   ]
  },
  {
   "cell_type": "code",
   "execution_count": 9,
   "id": "5bc71651-b424-41e2-9851-0bafbd254623",
   "metadata": {},
   "outputs": [],
   "source": [
    "df = df[df.BasePay.ne('Not Provided')]"
   ]
  },
  {
   "cell_type": "code",
   "execution_count": 10,
   "id": "e206286c-7304-4e1f-bd75-b105b47e1401",
   "metadata": {},
   "outputs": [],
   "source": [
    "df.BasePay = df.BasePay.astype('float64')\n",
    "df.OvertimePay = df.OvertimePay.astype('float64')\n",
    "df.OtherPay = df.OtherPay.astype('float64')\n",
    "df.Benefits = df.Benefits.astype('float64')"
   ]
  },
  {
   "cell_type": "markdown",
   "id": "4022b0f0-1cb6-4cb6-8916-205c8ef4332b",
   "metadata": {},
   "source": [
    "As per 'Benefits', we saw that some 40k entries have a null value: those are way too many to drop, so we thought that maybe when 'Benefits' is null, then it means there were no benefits, so 'TotalPayBenefits' should be equal to 'TotalPay'. After proving it right, we set all null values in 'Benefits' to 0."
   ]
  },
  {
   "cell_type": "code",
   "execution_count": 11,
   "id": "149b9e0a-2fcc-438a-be72-b66130a8ef58",
   "metadata": {},
   "outputs": [
    {
     "data": {
      "text/plain": [
       "True"
      ]
     },
     "execution_count": 11,
     "metadata": {},
     "output_type": "execute_result"
    }
   ],
   "source": [
    "(df.TotalPay[df.Benefits.isnull()] == df.TotalPayBenefits[df.Benefits.isnull()]).all()"
   ]
  },
  {
   "cell_type": "code",
   "execution_count": 12,
   "id": "d8f471e8-32a7-42c4-8c05-9b38fe03b76c",
   "metadata": {},
   "outputs": [],
   "source": [
    "df.loc[df.Benefits.isnull(), 'Benefits'] = 0"
   ]
  },
  {
   "cell_type": "markdown",
   "id": "5222da1d-eee0-4760-b150-32410e58a4b8",
   "metadata": {},
   "source": [
    "We also thought that it didn't make much sense to have negative salaries, or any kind of pay, so they are going to be dropped. The reason for a negative salary might be related to a compensation due to a scheduling error."
   ]
  },
  {
   "cell_type": "raw",
   "id": "b217928c-9440-4131-9863-ce4377f06f7c",
   "metadata": {},
   "source": [
    "df = df[df.BasePay.ge(0) * df.OvertimePay.ge(0) * df.OtherPay.ge(0) * df.Benefits.ge(0) * df.TotalPay.ge(0) * df.TotalPayBenefits.ge(0)]"
   ]
  },
  {
   "cell_type": "code",
   "execution_count": 13,
   "id": "0c2da19a-6ffa-4ca6-9fcd-2a550e32db7b",
   "metadata": {},
   "outputs": [],
   "source": [
    "df = df[df.iloc[:, np.array([df.dtypes == 'float64']).reshape(df.shape[1], )].ge(0).all(axis=1)]\n",
    "df = df.reset_index(drop=True)"
   ]
  },
  {
   "cell_type": "markdown",
   "id": "f96a06e2-dcee-4966-9fa7-6b886c6f1781",
   "metadata": {},
   "source": [
    "Now the data is pretty clean, but we thought it would be a good idea to have every 'JobTitle' in uppercase letters, and to delete all extra spaces which could mess up some string comprehension we might take on later."
   ]
  },
  {
   "cell_type": "code",
   "execution_count": 14,
   "id": "61bdd05f-acd5-4e89-a9cf-f5e87775d8eb",
   "metadata": {
    "tags": []
   },
   "outputs": [],
   "source": [
    "df.JobTitle = df.JobTitle.str.upper()\n",
    "df.JobTitle = df.JobTitle.replace(to_replace=r'  +', value=' ', regex=True)\n",
    "df.EmployeeName = df.EmployeeName.str.upper()\n",
    "df.EmployeeName = df.EmployeeName.replace(to_replace=r'  +', value=' ', regex=True)"
   ]
  },
  {
   "cell_type": "code",
   "execution_count": 15,
   "id": "90175c9c-2dff-426e-ba07-9383db0fcb20",
   "metadata": {},
   "outputs": [
    {
     "data": {
      "text/html": [
       "<div>\n",
       "<style scoped>\n",
       "    .dataframe tbody tr th:only-of-type {\n",
       "        vertical-align: middle;\n",
       "    }\n",
       "\n",
       "    .dataframe tbody tr th {\n",
       "        vertical-align: top;\n",
       "    }\n",
       "\n",
       "    .dataframe thead th {\n",
       "        text-align: right;\n",
       "    }\n",
       "</style>\n",
       "<table border=\"1\" class=\"dataframe\">\n",
       "  <thead>\n",
       "    <tr style=\"text-align: right;\">\n",
       "      <th></th>\n",
       "      <th>BasePay</th>\n",
       "      <th>OvertimePay</th>\n",
       "      <th>OtherPay</th>\n",
       "      <th>Benefits</th>\n",
       "      <th>TotalPay</th>\n",
       "      <th>TotalPayBenefits</th>\n",
       "      <th>Year</th>\n",
       "    </tr>\n",
       "  </thead>\n",
       "  <tbody>\n",
       "    <tr>\n",
       "      <th>count</th>\n",
       "      <td>148027.000000</td>\n",
       "      <td>148027.000000</td>\n",
       "      <td>148027.000000</td>\n",
       "      <td>148027.000000</td>\n",
       "      <td>148027.000000</td>\n",
       "      <td>148027.000000</td>\n",
       "      <td>148027.000000</td>\n",
       "    </tr>\n",
       "    <tr>\n",
       "      <th>mean</th>\n",
       "      <td>66331.428168</td>\n",
       "      <td>5087.334185</td>\n",
       "      <td>3646.079395</td>\n",
       "      <td>18981.854008</td>\n",
       "      <td>75064.841748</td>\n",
       "      <td>94046.695756</td>\n",
       "      <td>2012.520655</td>\n",
       "    </tr>\n",
       "    <tr>\n",
       "      <th>std</th>\n",
       "      <td>42762.323488</td>\n",
       "      <td>11473.751595</td>\n",
       "      <td>8019.832754</td>\n",
       "      <td>17176.358349</td>\n",
       "      <td>50407.656154</td>\n",
       "      <td>62680.706812</td>\n",
       "      <td>1.119432</td>\n",
       "    </tr>\n",
       "    <tr>\n",
       "      <th>min</th>\n",
       "      <td>0.000000</td>\n",
       "      <td>0.000000</td>\n",
       "      <td>0.000000</td>\n",
       "      <td>0.000000</td>\n",
       "      <td>0.000000</td>\n",
       "      <td>0.000000</td>\n",
       "      <td>2011.000000</td>\n",
       "    </tr>\n",
       "    <tr>\n",
       "      <th>25%</th>\n",
       "      <td>33599.910000</td>\n",
       "      <td>0.000000</td>\n",
       "      <td>0.000000</td>\n",
       "      <td>0.000000</td>\n",
       "      <td>36989.785000</td>\n",
       "      <td>45100.210000</td>\n",
       "      <td>2012.000000</td>\n",
       "    </tr>\n",
       "    <tr>\n",
       "      <th>50%</th>\n",
       "      <td>65010.820000</td>\n",
       "      <td>0.000000</td>\n",
       "      <td>817.590000</td>\n",
       "      <td>23471.230000</td>\n",
       "      <td>71649.200000</td>\n",
       "      <td>92680.690000</td>\n",
       "      <td>2013.000000</td>\n",
       "    </tr>\n",
       "    <tr>\n",
       "      <th>75%</th>\n",
       "      <td>94691.060000</td>\n",
       "      <td>4696.820000</td>\n",
       "      <td>4243.500000</td>\n",
       "      <td>33508.710000</td>\n",
       "      <td>106031.075000</td>\n",
       "      <td>133096.950000</td>\n",
       "      <td>2014.000000</td>\n",
       "    </tr>\n",
       "    <tr>\n",
       "      <th>max</th>\n",
       "      <td>319275.010000</td>\n",
       "      <td>245131.880000</td>\n",
       "      <td>400184.250000</td>\n",
       "      <td>96570.660000</td>\n",
       "      <td>567595.430000</td>\n",
       "      <td>567595.430000</td>\n",
       "      <td>2014.000000</td>\n",
       "    </tr>\n",
       "  </tbody>\n",
       "</table>\n",
       "</div>"
      ],
      "text/plain": [
       "             BasePay    OvertimePay       OtherPay       Benefits  \\\n",
       "count  148027.000000  148027.000000  148027.000000  148027.000000   \n",
       "mean    66331.428168    5087.334185    3646.079395   18981.854008   \n",
       "std     42762.323488   11473.751595    8019.832754   17176.358349   \n",
       "min         0.000000       0.000000       0.000000       0.000000   \n",
       "25%     33599.910000       0.000000       0.000000       0.000000   \n",
       "50%     65010.820000       0.000000     817.590000   23471.230000   \n",
       "75%     94691.060000    4696.820000    4243.500000   33508.710000   \n",
       "max    319275.010000  245131.880000  400184.250000   96570.660000   \n",
       "\n",
       "            TotalPay  TotalPayBenefits           Year  \n",
       "count  148027.000000     148027.000000  148027.000000  \n",
       "mean    75064.841748      94046.695756    2012.520655  \n",
       "std     50407.656154      62680.706812       1.119432  \n",
       "min         0.000000          0.000000    2011.000000  \n",
       "25%     36989.785000      45100.210000    2012.000000  \n",
       "50%     71649.200000      92680.690000    2013.000000  \n",
       "75%    106031.075000     133096.950000    2014.000000  \n",
       "max    567595.430000     567595.430000    2014.000000  "
      ]
     },
     "execution_count": 15,
     "metadata": {},
     "output_type": "execute_result"
    }
   ],
   "source": [
    "df.describe()"
   ]
  },
  {
   "cell_type": "markdown",
   "id": "3be69b93-bf35-422c-b0b7-0dace083e0a0",
   "metadata": {
    "tags": []
   },
   "source": [
    "### Data analysis"
   ]
  },
  {
   "cell_type": "markdown",
   "id": "2b204d2d-f90c-48d5-b0b4-28ad744fc4cb",
   "metadata": {
    "tags": []
   },
   "source": [
    "#### Salary classification"
   ]
  },
  {
   "cell_type": "code",
   "execution_count": 16,
   "id": "57b389ae-2687-438e-8c66-89a461a4dc76",
   "metadata": {
    "tags": []
   },
   "outputs": [
    {
     "data": {
      "text/plain": [
       "<seaborn.axisgrid.FacetGrid at 0x7fadb40e7760>"
      ]
     },
     "execution_count": 16,
     "metadata": {},
     "output_type": "execute_result"
    },
    {
     "data": {
      "image/png": "[encoded data removed]",
      "text/plain": [
       "<Figure size 360x360 with 1 Axes>"
      ]
     },
     "metadata": {
      "needs_background": "light"
     },
     "output_type": "display_data"
    }
   ],
   "source": [
    "sns.displot(df.TotalPay)"
   ]
  },
  {
   "cell_type": "markdown",
   "id": "3fc8f2ac-1bf4-437d-8f0c-2cd18493cc48",
   "metadata": {},
   "source": [
    "It has multimodal distribution, so we split the data around the anual minimum wage for a full time job, which was around 21k a year."
   ]
  },
  {
   "cell_type": "code",
   "execution_count": 17,
   "id": "44a6b2e7-8cae-4708-85e4-ac7ce29d69c4",
   "metadata": {},
   "outputs": [
    {
     "data": {
      "text/plain": [
       "<seaborn.axisgrid.FacetGrid at 0x7fadb40e7bb0>"
      ]
     },
     "execution_count": 17,
     "metadata": {},
     "output_type": "execute_result"
    },
    {
     "data": {
      "image/png": "[encoded data removed]",
      "text/plain": [
       "<Figure size 360x360 with 1 Axes>"
      ]
     },
     "metadata": {
      "needs_background": "light"
     },
     "output_type": "display_data"
    }
   ],
   "source": [
    "sns.displot(df.TotalPay[df.BasePay > 2.1e4], kde=True)"
   ]
  },
  {
   "cell_type": "markdown",
   "id": "c020b198-62ff-464a-8e94-13fd064430ba",
   "metadata": {},
   "source": [
    "It becomes more gaussian-y, although it is still right-tailed."
   ]
  },
  {
   "cell_type": "markdown",
   "id": "6f7e6fa3-d34b-411e-9fc4-a30e73848a5f",
   "metadata": {},
   "source": [
    "Let's check out the other part now."
   ]
  },
  {
   "cell_type": "code",
   "execution_count": 18,
   "id": "d2db505d-382e-46f8-b8df-97a6eaa9ace7",
   "metadata": {},
   "outputs": [
    {
     "data": {
      "text/plain": [
       "<seaborn.axisgrid.FacetGrid at 0x7fad6bf01940>"
      ]
     },
     "execution_count": 18,
     "metadata": {},
     "output_type": "execute_result"
    },
    {
     "data": {
      "image/png": "[encoded data removed]",
      "text/plain": [
       "<Figure size 360x360 with 1 Axes>"
      ]
     },
     "metadata": {
      "needs_background": "light"
     },
     "output_type": "display_data"
    }
   ],
   "source": [
    "sns.displot(df.TotalPay[df.BasePay < 2.1e4], kde=True)"
   ]
  },
  {
   "cell_type": "markdown",
   "id": "fb5ba4bb-11d5-4b4f-a817-e1e589bef918",
   "metadata": {},
   "source": [
    "It's not gaussian at all: we can't even see it properly, but there are a few employees with a lower than minimum wage base salary but still end up making north of 200k, so its over 9 times their base salary in overtime pay (or other pay). Could those be fire fighters pulling 14 hour shifts or world known surgeons performing almost impossible operations?"
   ]
  },
  {
   "cell_type": "code",
   "execution_count": 19,
   "id": "3af7dd8d-9f4a-45f6-acbd-6f768ac908e1",
   "metadata": {},
   "outputs": [
    {
     "data": {
      "text/plain": [
       "46090                           LIEUTENANT 3\n",
       "120246                             CAPTAIN 3\n",
       "3488      LIEUTENANT III (POLICE DEPARTMENT)\n",
       "3263                              MANAGER VI\n",
       "2896                             MANAGER VII\n",
       "81541                       POLICE OFFICER 3\n",
       "118992        CHIEF ATTY1 (CIVIL & CRIMINAL)\n",
       "43797              CAPTAIN, FIRE SUPPRESSION\n",
       "1887      INSPECTOR III, (POLICE DEPARTMENT)\n",
       "113146               SENIOR MUSEUM REGISTRAR\n",
       "1669      INSPECTOR III, (POLICE DEPARTMENT)\n",
       "39843                            INSPECTOR 3\n",
       "40140         BATTLION CHIEF, FIRE SUPPRESSI\n",
       "39613               ASSISTANT DEPUTY CHIEF 2\n",
       "36888         CHIEF ATTY1 (CIVIL & CRIMINAL)\n",
       "Name: JobTitle, dtype: object"
      ]
     },
     "execution_count": 19,
     "metadata": {},
     "output_type": "execute_result"
    }
   ],
   "source": [
    "df.iloc[df.TotalPay[df.BasePay < 2.1e4].sort_values().index[-15:]].JobTitle"
   ]
  },
  {
   "cell_type": "markdown",
   "id": "e87a6c6c-c27d-4acf-a097-8ba37830d2c6",
   "metadata": {},
   "source": [
    "We can see no doctors, but we do see police officers, fire fighters, attorneys some general managers and a very good museum registrar."
   ]
  },
  {
   "cell_type": "markdown",
   "id": "2b411ede-d251-4264-9602-288fa21339ce",
   "metadata": {},
   "source": [
    "Since the full time jobs year round look so much more promising than the others, we'll start with those."
   ]
  },
  {
   "cell_type": "code",
   "execution_count": 20,
   "id": "147704a5-0089-45dc-a088-fcd7309525ce",
   "metadata": {},
   "outputs": [],
   "source": [
    "df = df[df.BasePay > 2.1e4]"
   ]
  },
  {
   "cell_type": "markdown",
   "id": "b552aa57-15cf-4b26-89ae-3ed09f66c480",
   "metadata": {
    "tags": []
   },
   "source": [
    "#### Job classification"
   ]
  },
  {
   "cell_type": "code",
   "execution_count": 21,
   "id": "8cff4478-4eb8-4ebc-b404-b2db4791e564",
   "metadata": {},
   "outputs": [],
   "source": [
    "def add_classification(df, column, new_column, keywords):\n",
    "    for classification in keywords.keys():\n",
    "        for keyword in keywords[classification]:\n",
    "            df.loc[df[column].str.contains(keyword), new_column] = classification"
   ]
  },
  {
   "cell_type": "code",
   "execution_count": 22,
   "id": "f6853652-2726-47bf-aca0-2e1f63a46184",
   "metadata": {},
   "outputs": [
    {
     "data": {
      "text/plain": [
       "array(['TRANSIT OPERATOR', 'REGISTERED NURSE', 'FIREFIGHTER', 'CUSTODIAN',\n",
       "       'SPECIAL NURSE', 'DEPUTY SHERIFF', 'POLICE OFFICER 3',\n",
       "       'ATTORNEY (CIVIL/CRIMINAL)', 'PATIENT CARE ASSISTANT',\n",
       "       'POLICE OFFICER', 'GENERAL LABORER', 'PORTER', 'POLICE OFFICER 2',\n",
       "       'GARDENER', 'PARKING CONTROL OFFICER', 'SERGEANT 3',\n",
       "       'SENIOR CLERK TYPIST', 'EMT/PARAMEDIC/FIREFIGHTER', 'SENIOR CLERK',\n",
       "       'SENIOR ELIGIBILITY WORKER'], dtype=object)"
      ]
     },
     "execution_count": 22,
     "metadata": {},
     "output_type": "execute_result"
    }
   ],
   "source": [
    "unique_jobs, idx_jobs, cn_jobs = np.unique(df.JobTitle, return_index=True, return_counts=True)\n",
    "unique_jobs[np.argsort(cn_jobs)][::-1][:20]"
   ]
  },
  {
   "cell_type": "code",
   "execution_count": 23,
   "id": "80ed4241-2f80-4bcd-9588-f063055c706b",
   "metadata": {},
   "outputs": [],
   "source": [
    "sorted_cn_jobs = np.array(sorted(cn_jobs, reverse=True))"
   ]
  },
  {
   "cell_type": "code",
   "execution_count": 24,
   "id": "45c1d9e5-b56d-4f7b-ae87-1b43373994dd",
   "metadata": {},
   "outputs": [
    {
     "name": "stdout",
     "output_type": "stream",
     "text": [
      "52829\n",
      "(39,)\n"
     ]
    }
   ],
   "source": [
    "print(sorted_cn_jobs[sorted_cn_jobs > 500].sum())\n",
    "print(sorted_cn_jobs[sorted_cn_jobs > 500].shape)"
   ]
  },
  {
   "cell_type": "code",
   "execution_count": 25,
   "id": "d8353c24-593c-4ce5-9856-7a33e173045b",
   "metadata": {},
   "outputs": [],
   "source": [
    "df = df[df.JobTitle.isin(unique_jobs[np.argsort(cn_jobs)][::-1][:39])].reset_index(drop=True)"
   ]
  },
  {
   "cell_type": "code",
   "execution_count": 26,
   "id": "5ee001e8-24fa-48f4-b647-fe5518340ace",
   "metadata": {},
   "outputs": [],
   "source": [
    "job_classification = {'FIRE': ['FIRE'],\n",
    "                     'POLICE': ['POLICE', 'SHERIF', 'PROBATION', 'SERGEANT', 'FORENSIC'],\n",
    "                     'TRANSIT': ['TRANSIT', 'MTA', 'TRANSPORT', 'TRAF'],\n",
    "                     'MEDICAL': ['MEDICAL', 'ANESTH',  'NURS', 'HEALTH', 'ORTHOPEDIC', 'PHYSICIAN', 'HEALTH', 'PHARM', 'DIAGNOSTIC', 'PSYCH', 'SURG', 'HOSPITAL', 'DENTAL', 'THERAP', 'EPIDEM', 'DISEASE', 'BACTER'],\n",
    "                     'AIRPORT': ['AIRPORT'],\n",
    "                     'ANIMAL': ['ANIMAL'],\n",
    "                     'ARCHITECTURAL': ['ARCHITECT'],\n",
    "                     'COURT': ['COURT', 'LEGAL', 'COUNSELOR', 'LAW', 'FISCAL'],\n",
    "                     'MAYOR': ['MAYOR'],\n",
    "                     'LIBRARY': ['LIBRAR'],\n",
    "                     'PARKING': ['PARKING'],\n",
    "                     'PUBLIC WORKS': ['PUBLIC WORKS', 'BUILD', 'CEMENT', 'BRICK'],\n",
    "                     'ATTORNEY': ['ATTORNEY'],\n",
    "                     'AUTOMOTIVE': ['AUTOMOTIVE', 'CAR '],\n",
    "                     'CUSTODIAN': ['CUSTODIAN'],\n",
    "                     'ENGINEER': ['ENGINEER', 'ENGR', 'ENG'],\n",
    "                     'ACCOUNTING': ['ACCOUNT'],\n",
    "                     'GARDENER': ['GARDEN', 'TREE', 'FOREST'],\n",
    "                     'GENERAL LABORER': ['GENERAL LABORER', 'PLUM ', 'MECHANIC', 'ELECTRICIAN', 'REPAIRER', 'PAINTER', 'CARPENTER', 'CLEANER'],\n",
    "                     'FOOD SERVICE': ['FOOD SERV'],\n",
    "                     'CLERK': ['CLERK'],\n",
    "                     'PORTER': ['PORTER'],\n",
    "                     'PORT': ['PORT '],\n",
    "                     'GUARD': ['GUARD'],\n",
    "                     'HUMAN RESOURCES': ['HUMAN']}"
   ]
  },
  {
   "cell_type": "code",
   "execution_count": 27,
   "id": "5e3843f9-a470-4f59-af37-8d4633984e16",
   "metadata": {},
   "outputs": [],
   "source": [
    "add_classification(df, 'JobTitle', 'JobArea', job_classification)"
   ]
  },
  {
   "cell_type": "markdown",
   "id": "4091bb0e-6ec0-48bd-a558-a4c043235fdc",
   "metadata": {
    "tags": []
   },
   "source": [
    "#### Gender classification"
   ]
  },
  {
   "cell_type": "code",
   "execution_count": 28,
   "id": "1d910a30-a1d6-4bec-8655-0a5838092782",
   "metadata": {},
   "outputs": [],
   "source": [
    "womens_names = pd.read_csv(r\"babies-first-names-top-100-girls.csv\", header=0, delimiter=',')\n",
    "mens_names = pd.read_csv(r\"babies-first-names-top-100-boys.csv\", header=0, delimiter=',')"
   ]
  },
  {
   "cell_type": "code",
   "execution_count": 29,
   "id": "745ff419-1663-42ef-95f7-5cf4763f7123",
   "metadata": {},
   "outputs": [],
   "source": [
    "womens_names.FirstForename = womens_names.FirstForename.str.upper()\n",
    "mens_names.FirstForename = mens_names.FirstForename.str.upper()"
   ]
  },
  {
   "cell_type": "code",
   "execution_count": 30,
   "id": "fb9b6c8f-d414-4139-9f4a-3a6760efe13b",
   "metadata": {},
   "outputs": [],
   "source": [
    "gender_classification = {'F': womens_names.FirstForename.to_list(),\n",
    "                        'M': mens_names.FirstForename.to_list()}"
   ]
  },
  {
   "cell_type": "code",
   "execution_count": 31,
   "id": "5d9d25a9-db85-49dc-926d-80e1e83c125c",
   "metadata": {},
   "outputs": [],
   "source": [
    "df.loc[:, 'FirstName'] = df.EmployeeName.apply(lambda x: ''.join(x.split()[0]))"
   ]
  },
  {
   "cell_type": "code",
   "execution_count": 32,
   "id": "8cf5cc4a-d020-417f-9ad7-917d91626cfe",
   "metadata": {},
   "outputs": [],
   "source": [
    "add_classification(df, 'FirstName', 'Gender', gender_classification)"
   ]
  },
  {
   "cell_type": "markdown",
   "id": "e9bfc6a7-0d92-4958-8977-5dc266526ce9",
   "metadata": {
    "tags": []
   },
   "source": [
    "#### Ranking classification"
   ]
  },
  {
   "cell_type": "code",
   "execution_count": 33,
   "id": "7d453141-8815-46fd-b822-45ca8c414379",
   "metadata": {},
   "outputs": [],
   "source": [
    "ranking_classification = {'LOW': [''],\n",
    "                          'HIGH': ['SENIOR', 'MANAGER', 'III', 'IV', ' V', 'VI', 'CHIEF', 'HEAD', 'DIRECTOR', 'SUPERVISOR', 'CAPTAIN', 'LIEUTENANT', 'SERGEANT']}"
   ]
  },
  {
   "cell_type": "code",
   "execution_count": 34,
   "id": "4ca1e5ac-ac92-4101-bc75-8458659f0ed4",
   "metadata": {},
   "outputs": [],
   "source": [
    "add_classification(df, 'JobTitle', 'Ranking', ranking_classification)"
   ]
  },
  {
   "cell_type": "code",
   "execution_count": 35,
   "id": "78ac0df0-496b-4781-9f0b-4eb97a792460",
   "metadata": {},
   "outputs": [
    {
     "data": {
      "text/html": [
       "<div>\n",
       "<style scoped>\n",
       "    .dataframe tbody tr th:only-of-type {\n",
       "        vertical-align: middle;\n",
       "    }\n",
       "\n",
       "    .dataframe tbody tr th {\n",
       "        vertical-align: top;\n",
       "    }\n",
       "\n",
       "    .dataframe thead th {\n",
       "        text-align: right;\n",
       "    }\n",
       "</style>\n",
       "<table border=\"1\" class=\"dataframe\">\n",
       "  <thead>\n",
       "    <tr style=\"text-align: right;\">\n",
       "      <th></th>\n",
       "      <th>EmployeeName</th>\n",
       "      <th>JobTitle</th>\n",
       "      <th>BasePay</th>\n",
       "      <th>OvertimePay</th>\n",
       "      <th>OtherPay</th>\n",
       "      <th>Benefits</th>\n",
       "      <th>TotalPay</th>\n",
       "      <th>TotalPayBenefits</th>\n",
       "      <th>Year</th>\n",
       "      <th>JobArea</th>\n",
       "      <th>FirstName</th>\n",
       "      <th>Gender</th>\n",
       "      <th>Ranking</th>\n",
       "    </tr>\n",
       "  </thead>\n",
       "  <tbody>\n",
       "    <tr>\n",
       "      <th>0</th>\n",
       "      <td>MICHAEL THOMPSON</td>\n",
       "      <td>FIREFIGHTER</td>\n",
       "      <td>123013.02</td>\n",
       "      <td>111729.65</td>\n",
       "      <td>15575.26</td>\n",
       "      <td>0.00</td>\n",
       "      <td>250317.93</td>\n",
       "      <td>250317.93</td>\n",
       "      <td>2011</td>\n",
       "      <td>FIRE</td>\n",
       "      <td>MICHAEL</td>\n",
       "      <td>M</td>\n",
       "      <td>LOW</td>\n",
       "    </tr>\n",
       "    <tr>\n",
       "      <th>1</th>\n",
       "      <td>EVETTE GEER-STEVENS</td>\n",
       "      <td>TRANSIT SUPERVISOR</td>\n",
       "      <td>88062.00</td>\n",
       "      <td>135159.38</td>\n",
       "      <td>7018.60</td>\n",
       "      <td>0.00</td>\n",
       "      <td>230239.98</td>\n",
       "      <td>230239.98</td>\n",
       "      <td>2011</td>\n",
       "      <td>TRANSIT</td>\n",
       "      <td>EVETTE</td>\n",
       "      <td>F</td>\n",
       "      <td>HIGH</td>\n",
       "    </tr>\n",
       "    <tr>\n",
       "      <th>2</th>\n",
       "      <td>LAUIFI SEUMAALA</td>\n",
       "      <td>FIREFIGHTER</td>\n",
       "      <td>105934.69</td>\n",
       "      <td>98534.35</td>\n",
       "      <td>18890.96</td>\n",
       "      <td>0.00</td>\n",
       "      <td>223360.00</td>\n",
       "      <td>223360.00</td>\n",
       "      <td>2011</td>\n",
       "      <td>FIRE</td>\n",
       "      <td>LAUIFI</td>\n",
       "      <td>NaN</td>\n",
       "      <td>LOW</td>\n",
       "    </tr>\n",
       "    <tr>\n",
       "      <th>3</th>\n",
       "      <td>EDWARD DENNIS</td>\n",
       "      <td>TRANSIT SUPERVISOR</td>\n",
       "      <td>88400.70</td>\n",
       "      <td>126778.88</td>\n",
       "      <td>7228.67</td>\n",
       "      <td>0.00</td>\n",
       "      <td>222408.25</td>\n",
       "      <td>222408.25</td>\n",
       "      <td>2011</td>\n",
       "      <td>TRANSIT</td>\n",
       "      <td>EDWARD</td>\n",
       "      <td>M</td>\n",
       "      <td>HIGH</td>\n",
       "    </tr>\n",
       "    <tr>\n",
       "      <th>4</th>\n",
       "      <td>PATRIC STEELE</td>\n",
       "      <td>FIREFIGHTER</td>\n",
       "      <td>105934.64</td>\n",
       "      <td>97395.59</td>\n",
       "      <td>18760.77</td>\n",
       "      <td>0.00</td>\n",
       "      <td>222091.00</td>\n",
       "      <td>222091.00</td>\n",
       "      <td>2011</td>\n",
       "      <td>FIRE</td>\n",
       "      <td>PATRIC</td>\n",
       "      <td>NaN</td>\n",
       "      <td>LOW</td>\n",
       "    </tr>\n",
       "    <tr>\n",
       "      <th>...</th>\n",
       "      <td>...</td>\n",
       "      <td>...</td>\n",
       "      <td>...</td>\n",
       "      <td>...</td>\n",
       "      <td>...</td>\n",
       "      <td>...</td>\n",
       "      <td>...</td>\n",
       "      <td>...</td>\n",
       "      <td>...</td>\n",
       "      <td>...</td>\n",
       "      <td>...</td>\n",
       "      <td>...</td>\n",
       "      <td>...</td>\n",
       "    </tr>\n",
       "    <tr>\n",
       "      <th>52824</th>\n",
       "      <td>BOB MASSOLA</td>\n",
       "      <td>POLICE OFFICER 3</td>\n",
       "      <td>21721.76</td>\n",
       "      <td>0.00</td>\n",
       "      <td>0.00</td>\n",
       "      <td>217.22</td>\n",
       "      <td>21721.76</td>\n",
       "      <td>21938.98</td>\n",
       "      <td>2014</td>\n",
       "      <td>POLICE</td>\n",
       "      <td>BOB</td>\n",
       "      <td>NaN</td>\n",
       "      <td>LOW</td>\n",
       "    </tr>\n",
       "    <tr>\n",
       "      <th>52825</th>\n",
       "      <td>AMORITA C UPERESA</td>\n",
       "      <td>PORTER</td>\n",
       "      <td>21504.11</td>\n",
       "      <td>0.00</td>\n",
       "      <td>0.00</td>\n",
       "      <td>215.03</td>\n",
       "      <td>21504.11</td>\n",
       "      <td>21719.14</td>\n",
       "      <td>2014</td>\n",
       "      <td>PORTER</td>\n",
       "      <td>AMORITA</td>\n",
       "      <td>NaN</td>\n",
       "      <td>LOW</td>\n",
       "    </tr>\n",
       "    <tr>\n",
       "      <th>52826</th>\n",
       "      <td>MARIANO R FLORES</td>\n",
       "      <td>SPECIAL NURSE</td>\n",
       "      <td>21717.50</td>\n",
       "      <td>0.00</td>\n",
       "      <td>0.00</td>\n",
       "      <td>0.00</td>\n",
       "      <td>21717.50</td>\n",
       "      <td>21717.50</td>\n",
       "      <td>2014</td>\n",
       "      <td>MEDICAL</td>\n",
       "      <td>MARIANO</td>\n",
       "      <td>M</td>\n",
       "      <td>LOW</td>\n",
       "    </tr>\n",
       "    <tr>\n",
       "      <th>52827</th>\n",
       "      <td>JOSALIZA D SILLA</td>\n",
       "      <td>PATIENT CARE ASSISTANT</td>\n",
       "      <td>21292.15</td>\n",
       "      <td>0.00</td>\n",
       "      <td>115.56</td>\n",
       "      <td>214.08</td>\n",
       "      <td>21407.71</td>\n",
       "      <td>21621.79</td>\n",
       "      <td>2014</td>\n",
       "      <td>NaN</td>\n",
       "      <td>JOSALIZA</td>\n",
       "      <td>NaN</td>\n",
       "      <td>LOW</td>\n",
       "    </tr>\n",
       "    <tr>\n",
       "      <th>52828</th>\n",
       "      <td>PETER J DONOVAN</td>\n",
       "      <td>MEDICAL EVALUATIONS ASSISTANT</td>\n",
       "      <td>21287.10</td>\n",
       "      <td>76.22</td>\n",
       "      <td>0.00</td>\n",
       "      <td>213.63</td>\n",
       "      <td>21363.32</td>\n",
       "      <td>21576.95</td>\n",
       "      <td>2014</td>\n",
       "      <td>MEDICAL</td>\n",
       "      <td>PETER</td>\n",
       "      <td>M</td>\n",
       "      <td>LOW</td>\n",
       "    </tr>\n",
       "  </tbody>\n",
       "</table>\n",
       "<p>52829 rows × 13 columns</p>\n",
       "</div>"
      ],
      "text/plain": [
       "              EmployeeName                       JobTitle    BasePay  \\\n",
       "0         MICHAEL THOMPSON                    FIREFIGHTER  123013.02   \n",
       "1      EVETTE GEER-STEVENS             TRANSIT SUPERVISOR   88062.00   \n",
       "2          LAUIFI SEUMAALA                    FIREFIGHTER  105934.69   \n",
       "3            EDWARD DENNIS             TRANSIT SUPERVISOR   88400.70   \n",
       "4            PATRIC STEELE                    FIREFIGHTER  105934.64   \n",
       "...                    ...                            ...        ...   \n",
       "52824          BOB MASSOLA               POLICE OFFICER 3   21721.76   \n",
       "52825    AMORITA C UPERESA                         PORTER   21504.11   \n",
       "52826     MARIANO R FLORES                  SPECIAL NURSE   21717.50   \n",
       "52827     JOSALIZA D SILLA         PATIENT CARE ASSISTANT   21292.15   \n",
       "52828      PETER J DONOVAN  MEDICAL EVALUATIONS ASSISTANT   21287.10   \n",
       "\n",
       "       OvertimePay  OtherPay  Benefits   TotalPay  TotalPayBenefits  Year  \\\n",
       "0        111729.65  15575.26      0.00  250317.93         250317.93  2011   \n",
       "1        135159.38   7018.60      0.00  230239.98         230239.98  2011   \n",
       "2         98534.35  18890.96      0.00  223360.00         223360.00  2011   \n",
       "3        126778.88   7228.67      0.00  222408.25         222408.25  2011   \n",
       "4         97395.59  18760.77      0.00  222091.00         222091.00  2011   \n",
       "...            ...       ...       ...        ...               ...   ...   \n",
       "52824         0.00      0.00    217.22   21721.76          21938.98  2014   \n",
       "52825         0.00      0.00    215.03   21504.11          21719.14  2014   \n",
       "52826         0.00      0.00      0.00   21717.50          21717.50  2014   \n",
       "52827         0.00    115.56    214.08   21407.71          21621.79  2014   \n",
       "52828        76.22      0.00    213.63   21363.32          21576.95  2014   \n",
       "\n",
       "       JobArea FirstName Gender Ranking  \n",
       "0         FIRE   MICHAEL      M     LOW  \n",
       "1      TRANSIT    EVETTE      F    HIGH  \n",
       "2         FIRE    LAUIFI    NaN     LOW  \n",
       "3      TRANSIT    EDWARD      M    HIGH  \n",
       "4         FIRE    PATRIC    NaN     LOW  \n",
       "...        ...       ...    ...     ...  \n",
       "52824   POLICE       BOB    NaN     LOW  \n",
       "52825   PORTER   AMORITA    NaN     LOW  \n",
       "52826  MEDICAL   MARIANO      M     LOW  \n",
       "52827      NaN  JOSALIZA    NaN     LOW  \n",
       "52828  MEDICAL     PETER      M     LOW  \n",
       "\n",
       "[52829 rows x 13 columns]"
      ]
     },
     "execution_count": 35,
     "metadata": {},
     "output_type": "execute_result"
    }
   ],
   "source": [
    "df"
   ]
  },
  {
   "cell_type": "markdown",
   "id": "dae395c5-c591-48bb-b2d7-a7e0195ddb31",
   "metadata": {
    "tags": []
   },
   "source": [
    "#### Model creation"
   ]
  },
  {
   "cell_type": "code",
   "execution_count": 36,
   "id": "04928444-b20f-473b-bf1d-ccdb7f3c1d47",
   "metadata": {},
   "outputs": [
    {
     "data": {
      "text/plain": [
       "(25074, 13)"
      ]
     },
     "execution_count": 36,
     "metadata": {},
     "output_type": "execute_result"
    }
   ],
   "source": [
    "df = df[df.JobArea.notna() * df.Gender.notna()]\n",
    "df.shape"
   ]
  },
  {
   "cell_type": "raw",
   "id": "87aadfa3-82da-42a4-90e8-620db6c8e5f4",
   "metadata": {},
   "source": [
    "df_s = df.sample(10000).reset_index(drop=True)"
   ]
  },
  {
   "cell_type": "code",
   "execution_count": 38,
   "id": "b2272de3-8b2e-4252-9ee6-16568cbefae6",
   "metadata": {},
   "outputs": [],
   "source": [
    "tfidf = TfidfVectorizer(stop_words='english')\n",
    "tfidf_matrix = tfidf.fit_transform(df.JobTitle)"
   ]
  },
  {
   "cell_type": "code",
   "execution_count": 39,
   "id": "741bdcab-bbe9-45bb-8b8a-6d86ac5ea6f1",
   "metadata": {},
   "outputs": [],
   "source": [
    "similarities = cosine_similarity(tfidf_matrix, tfidf_matrix)"
   ]
  },
  {
   "cell_type": "code",
   "execution_count": 40,
   "id": "acf9e01c-e3f5-4355-a435-e7df83926427",
   "metadata": {},
   "outputs": [],
   "source": [
    "def get_index(job, column, df):\n",
    "    if (df[column] == job).any():\n",
    "        return df[df[column] == job].index[0]\n",
    "    else:\n",
    "        return None\n",
    "\n",
    "def predict(job, column, df):\n",
    "    index =  job\n",
    "    index = get_index(job, column, df)\n",
    "    if index is None:\n",
    "        raise ValueError('Invalid ' + column + ' name')\n",
    "    \n",
    "    job_similarities = list(enumerate(similarities[index]))\n",
    "    job_similarities = sorted(job_similarities, key=lambda x: x[1], reverse=True)\n",
    "    job_similarities = [job[0] for job in job_similarities if job[1] > 0.8]\n",
    "    return df.iloc[job_similarities[1:]].TotalPay.mean()"
   ]
  },
  {
   "cell_type": "code",
   "execution_count": 45,
   "id": "4e31e3bf-85ab-4954-9329-980b233aaf82",
   "metadata": {},
   "outputs": [
    {
     "data": {
      "text/plain": [
       "109844.78290666666"
      ]
     },
     "execution_count": 45,
     "metadata": {},
     "output_type": "execute_result"
    }
   ],
   "source": [
    "predict('F', 'Gender', df)"
   ]
  },
  {
   "cell_type": "code",
   "execution_count": 51,
   "id": "d4f6e235-2c03-465d-8787-51cba3073ab0",
   "metadata": {},
   "outputs": [
    {
     "data": {
      "text/plain": [
       "145197.8995675413"
      ]
     },
     "execution_count": 51,
     "metadata": {},
     "output_type": "execute_result"
    }
   ],
   "source": [
    "predict('M', 'Gender', df)"
   ]
  },
  {
   "cell_type": "code",
   "execution_count": 54,
   "id": "20f17744-cee8-404c-8e2f-587cff8df8fa",
   "metadata": {},
   "outputs": [
    {
     "data": {
      "text/plain": [
       "129379.89881091619"
      ]
     },
     "execution_count": 54,
     "metadata": {},
     "output_type": "execute_result"
    }
   ],
   "source": [
    "predict('PETER', 'FirstName', df)"
   ]
  },
  {
   "cell_type": "code",
   "execution_count": 56,
   "id": "1be6051e-c29a-4e46-a65e-53d22d2201d5",
   "metadata": {},
   "outputs": [
    {
     "data": {
      "text/plain": [
       "115814.80731501056"
      ]
     },
     "execution_count": 56,
     "metadata": {},
     "output_type": "execute_result"
    }
   ],
   "source": [
    "predict('POLICE OFFICER', 'JobTitle', df)"
   ]
  },
  {
   "cell_type": "code",
   "execution_count": 50,
   "id": "cc210277-c106-4914-a30a-0c95473b49e4",
   "metadata": {},
   "outputs": [
    {
     "data": {
      "text/plain": [
       "<seaborn.axisgrid.FacetGrid at 0x7fad672d8130>"
      ]
     },
     "execution_count": 50,
     "metadata": {},
     "output_type": "execute_result"
    },
    {
     "data": {
      "image/png": "[encoded data removed]",
      "text/plain": [
       "<Figure size 360x360 with 1 Axes>"
      ]
     },
     "metadata": {
      "needs_background": "light"
     },
     "output_type": "display_data"
    }
   ],
   "source": [
    "sns.displot(df.TotalPay, kde=True)"
   ]
  },
  {
   "cell_type": "code",
   "execution_count": null,
   "id": "43865ee0-9f70-40c8-a567-9c255777978e",
   "metadata": {},
   "outputs": [],
   "source": []
  }
 ],
 "metadata": {
  "kernelspec": {
   "display_name": "Python 3 (ipykernel)",
   "language": "python",
   "name": "python3"
  },
  "language_info": {
   "codemirror_mode": {
    "name": "ipython",
    "version": 3
   },
   "file_extension": ".py",
   "mimetype": "text/x-python",
   "name": "python",
   "nbconvert_exporter": "python",
   "pygments_lexer": "ipython3",
   "version": "3.8.10"
  }
 },
 "nbformat": 4,
 "nbformat_minor": 5
}
