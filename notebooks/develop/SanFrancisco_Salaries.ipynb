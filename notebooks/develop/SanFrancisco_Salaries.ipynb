{
 "cells": [
  {
   "cell_type": "markdown",
   "id": "3380c9f5-c940-42ac-911b-07220a875052",
   "metadata": {
    "jp-MarkdownHeadingCollapsed": true,
    "tags": []
   },
   "source": [
    "### Introduction"
   ]
  },
  {
   "cell_type": "markdown",
   "id": "3d3dcab8-c3de-47cf-8c79-da7b86eb0429",
   "metadata": {},
   "source": [
    "How much is an hour of work worth? It depends. It depends on so many factors that it would make this problem unfeasable for an undergrad with a laptop. (Un)fortunately that kind of information is unavailable, so I will build a simpler model that will try to predict an employee's salary based on their name, the job's title, and other attributes derived from those two. "
   ]
  },
  {
   "cell_type": "markdown",
   "id": "d0b4b42d-cc90-4ccc-9689-040d56fd58c9",
   "metadata": {},
   "source": [
    "This is an NLP problem"
   ]
  },
  {
   "cell_type": "markdown",
   "id": "f255ed61-db9e-42b7-bf73-d940e26920f1",
   "metadata": {
    "jp-MarkdownHeadingCollapsed": true,
    "tags": []
   },
   "source": [
    "#### Dependencies"
   ]
  },
  {
   "cell_type": "code",
   "execution_count": 77,
   "id": "c75d789e-5a6c-4509-90f8-d950fd0915f7",
   "metadata": {
    "tags": []
   },
   "outputs": [],
   "source": [
    "import pandas as pd\n",
    "import numpy as np\n",
    "from collections import Counter\n",
    "import matplotlib.pyplot as plt\n",
    "import seaborn as sns\n",
    "\n",
    "from sklearn.feature_extraction.text import TfidfVectorizer\n",
    "from sklearn.metrics.pairwise import cosine_similarity\n",
    "\n",
    "from sklearn.linear_model import TweedieRegressor, Ridge, Lasso, ElasticNet, OrthogonalMatchingPursuit, BayesianRidge\n",
    "from sklearn.linear_model import ARDRegression, SGDRegressor, Perceptron, PassiveAggressiveRegressor, HuberRegressor\n",
    "\n",
    "from sklearn.ensemble import RandomForestRegressor, AdaBoostRegressor, BaggingRegressor, ExtraTreesRegressor, GradientBoostingRegressor\n",
    "from sklearn.ensemble import StackingRegressor, VotingRegressor\n",
    "\n",
    "from sklearn.model_selection import train_test_split\n",
    "from sklearn.preprocessing import StandardScaler, PolynomialFeatures\n",
    "from sklearn.pipeline import Pipeline\n",
    "\n",
    "from sklearn import linear_model\n",
    "\n",
    "from skopt import BayesSearchCV\n",
    "\n",
    "import warnings\n",
    "warnings.filterwarnings('ignore') "
   ]
  },
  {
   "cell_type": "markdown",
   "id": "8a1480e1-719a-48ec-81e3-cab1cdb1aa73",
   "metadata": {
    "jp-MarkdownHeadingCollapsed": true,
    "tags": []
   },
   "source": [
    "### Data information"
   ]
  },
  {
   "cell_type": "markdown",
   "id": "66f0ee0e-89ec-4393-bcbe-2467b1d69fae",
   "metadata": {
    "tags": []
   },
   "source": [
    "#### Data description"
   ]
  },
  {
   "cell_type": "raw",
   "id": "f8774a4e-fe51-4d3e-b9fc-852da1062fba",
   "metadata": {},
   "source": [
    "https://www.kaggle.com/kaggle/sf-salaries"
   ]
  },
  {
   "cell_type": "code",
   "execution_count": 2,
   "id": "9645b00b-d927-4a0b-87d9-641c8a8720f3",
   "metadata": {},
   "outputs": [
    {
     "name": "stderr",
     "output_type": "stream",
     "text": [
      "/home/carlos/.local/lib/python3.8/site-packages/IPython/core/interactiveshell.py:3441: DtypeWarning: Columns (3,4,5,6,12) have mixed types.Specify dtype option on import or set low_memory=False.\n",
      "  exec(code_obj, self.user_global_ns, self.user_ns)\n"
     ]
    }
   ],
   "source": [
    "df = pd.read_csv(r\"../../data/Salaries.csv\", header=0, delimiter=',')"
   ]
  },
  {
   "cell_type": "code",
   "execution_count": 3,
   "id": "a54cacb2-da35-4a8c-9c1d-7229bf64f3d9",
   "metadata": {},
   "outputs": [
    {
     "data": {
      "text/html": [
       "<div>\n",
       "<style scoped>\n",
       "    .dataframe tbody tr th:only-of-type {\n",
       "        vertical-align: middle;\n",
       "    }\n",
       "\n",
       "    .dataframe tbody tr th {\n",
       "        vertical-align: top;\n",
       "    }\n",
       "\n",
       "    .dataframe thead th {\n",
       "        text-align: right;\n",
       "    }\n",
       "</style>\n",
       "<table border=\"1\" class=\"dataframe\">\n",
       "  <thead>\n",
       "    <tr style=\"text-align: right;\">\n",
       "      <th></th>\n",
       "      <th>Id</th>\n",
       "      <th>EmployeeName</th>\n",
       "      <th>JobTitle</th>\n",
       "      <th>BasePay</th>\n",
       "      <th>OvertimePay</th>\n",
       "      <th>OtherPay</th>\n",
       "      <th>Benefits</th>\n",
       "      <th>TotalPay</th>\n",
       "      <th>TotalPayBenefits</th>\n",
       "      <th>Year</th>\n",
       "      <th>Notes</th>\n",
       "      <th>Agency</th>\n",
       "      <th>Status</th>\n",
       "    </tr>\n",
       "  </thead>\n",
       "  <tbody>\n",
       "    <tr>\n",
       "      <th>0</th>\n",
       "      <td>1</td>\n",
       "      <td>NATHANIEL FORD</td>\n",
       "      <td>GENERAL MANAGER-METROPOLITAN TRANSIT AUTHORITY</td>\n",
       "      <td>167411.18</td>\n",
       "      <td>0.0</td>\n",
       "      <td>400184.25</td>\n",
       "      <td>NaN</td>\n",
       "      <td>567595.43</td>\n",
       "      <td>567595.43</td>\n",
       "      <td>2011</td>\n",
       "      <td>NaN</td>\n",
       "      <td>San Francisco</td>\n",
       "      <td>NaN</td>\n",
       "    </tr>\n",
       "    <tr>\n",
       "      <th>1</th>\n",
       "      <td>2</td>\n",
       "      <td>GARY JIMENEZ</td>\n",
       "      <td>CAPTAIN III (POLICE DEPARTMENT)</td>\n",
       "      <td>155966.02</td>\n",
       "      <td>245131.88</td>\n",
       "      <td>137811.38</td>\n",
       "      <td>NaN</td>\n",
       "      <td>538909.28</td>\n",
       "      <td>538909.28</td>\n",
       "      <td>2011</td>\n",
       "      <td>NaN</td>\n",
       "      <td>San Francisco</td>\n",
       "      <td>NaN</td>\n",
       "    </tr>\n",
       "    <tr>\n",
       "      <th>2</th>\n",
       "      <td>3</td>\n",
       "      <td>ALBERT PARDINI</td>\n",
       "      <td>CAPTAIN III (POLICE DEPARTMENT)</td>\n",
       "      <td>212739.13</td>\n",
       "      <td>106088.18</td>\n",
       "      <td>16452.6</td>\n",
       "      <td>NaN</td>\n",
       "      <td>335279.91</td>\n",
       "      <td>335279.91</td>\n",
       "      <td>2011</td>\n",
       "      <td>NaN</td>\n",
       "      <td>San Francisco</td>\n",
       "      <td>NaN</td>\n",
       "    </tr>\n",
       "    <tr>\n",
       "      <th>3</th>\n",
       "      <td>4</td>\n",
       "      <td>CHRISTOPHER CHONG</td>\n",
       "      <td>WIRE ROPE CABLE MAINTENANCE MECHANIC</td>\n",
       "      <td>77916.0</td>\n",
       "      <td>56120.71</td>\n",
       "      <td>198306.9</td>\n",
       "      <td>NaN</td>\n",
       "      <td>332343.61</td>\n",
       "      <td>332343.61</td>\n",
       "      <td>2011</td>\n",
       "      <td>NaN</td>\n",
       "      <td>San Francisco</td>\n",
       "      <td>NaN</td>\n",
       "    </tr>\n",
       "    <tr>\n",
       "      <th>4</th>\n",
       "      <td>5</td>\n",
       "      <td>PATRICK GARDNER</td>\n",
       "      <td>DEPUTY CHIEF OF DEPARTMENT,(FIRE DEPARTMENT)</td>\n",
       "      <td>134401.6</td>\n",
       "      <td>9737.0</td>\n",
       "      <td>182234.59</td>\n",
       "      <td>NaN</td>\n",
       "      <td>326373.19</td>\n",
       "      <td>326373.19</td>\n",
       "      <td>2011</td>\n",
       "      <td>NaN</td>\n",
       "      <td>San Francisco</td>\n",
       "      <td>NaN</td>\n",
       "    </tr>\n",
       "  </tbody>\n",
       "</table>\n",
       "</div>"
      ],
      "text/plain": [
       "   Id       EmployeeName                                        JobTitle  \\\n",
       "0   1     NATHANIEL FORD  GENERAL MANAGER-METROPOLITAN TRANSIT AUTHORITY   \n",
       "1   2       GARY JIMENEZ                 CAPTAIN III (POLICE DEPARTMENT)   \n",
       "2   3     ALBERT PARDINI                 CAPTAIN III (POLICE DEPARTMENT)   \n",
       "3   4  CHRISTOPHER CHONG            WIRE ROPE CABLE MAINTENANCE MECHANIC   \n",
       "4   5    PATRICK GARDNER    DEPUTY CHIEF OF DEPARTMENT,(FIRE DEPARTMENT)   \n",
       "\n",
       "     BasePay OvertimePay   OtherPay Benefits   TotalPay  TotalPayBenefits  \\\n",
       "0  167411.18         0.0  400184.25      NaN  567595.43         567595.43   \n",
       "1  155966.02   245131.88  137811.38      NaN  538909.28         538909.28   \n",
       "2  212739.13   106088.18    16452.6      NaN  335279.91         335279.91   \n",
       "3    77916.0    56120.71   198306.9      NaN  332343.61         332343.61   \n",
       "4   134401.6      9737.0  182234.59      NaN  326373.19         326373.19   \n",
       "\n",
       "   Year  Notes         Agency Status  \n",
       "0  2011    NaN  San Francisco    NaN  \n",
       "1  2011    NaN  San Francisco    NaN  \n",
       "2  2011    NaN  San Francisco    NaN  \n",
       "3  2011    NaN  San Francisco    NaN  \n",
       "4  2011    NaN  San Francisco    NaN  "
      ]
     },
     "execution_count": 3,
     "metadata": {},
     "output_type": "execute_result"
    }
   ],
   "source": [
    "df.head()"
   ]
  },
  {
   "cell_type": "code",
   "execution_count": 4,
   "id": "6a18c710-1203-47f2-891d-1f0ac1689d6b",
   "metadata": {},
   "outputs": [
    {
     "data": {
      "text/html": [
       "<div>\n",
       "<style scoped>\n",
       "    .dataframe tbody tr th:only-of-type {\n",
       "        vertical-align: middle;\n",
       "    }\n",
       "\n",
       "    .dataframe tbody tr th {\n",
       "        vertical-align: top;\n",
       "    }\n",
       "\n",
       "    .dataframe thead th {\n",
       "        text-align: right;\n",
       "    }\n",
       "</style>\n",
       "<table border=\"1\" class=\"dataframe\">\n",
       "  <thead>\n",
       "    <tr style=\"text-align: right;\">\n",
       "      <th></th>\n",
       "      <th>Id</th>\n",
       "      <th>TotalPay</th>\n",
       "      <th>TotalPayBenefits</th>\n",
       "      <th>Year</th>\n",
       "      <th>Notes</th>\n",
       "    </tr>\n",
       "  </thead>\n",
       "  <tbody>\n",
       "    <tr>\n",
       "      <th>count</th>\n",
       "      <td>148654.000000</td>\n",
       "      <td>148654.000000</td>\n",
       "      <td>148654.000000</td>\n",
       "      <td>148654.000000</td>\n",
       "      <td>0.0</td>\n",
       "    </tr>\n",
       "    <tr>\n",
       "      <th>mean</th>\n",
       "      <td>74327.500000</td>\n",
       "      <td>74768.321972</td>\n",
       "      <td>93692.554811</td>\n",
       "      <td>2012.522643</td>\n",
       "      <td>NaN</td>\n",
       "    </tr>\n",
       "    <tr>\n",
       "      <th>std</th>\n",
       "      <td>42912.857795</td>\n",
       "      <td>50517.005274</td>\n",
       "      <td>62793.533483</td>\n",
       "      <td>1.117538</td>\n",
       "      <td>NaN</td>\n",
       "    </tr>\n",
       "    <tr>\n",
       "      <th>min</th>\n",
       "      <td>1.000000</td>\n",
       "      <td>-618.130000</td>\n",
       "      <td>-618.130000</td>\n",
       "      <td>2011.000000</td>\n",
       "      <td>NaN</td>\n",
       "    </tr>\n",
       "    <tr>\n",
       "      <th>25%</th>\n",
       "      <td>37164.250000</td>\n",
       "      <td>36168.995000</td>\n",
       "      <td>44065.650000</td>\n",
       "      <td>2012.000000</td>\n",
       "      <td>NaN</td>\n",
       "    </tr>\n",
       "    <tr>\n",
       "      <th>50%</th>\n",
       "      <td>74327.500000</td>\n",
       "      <td>71426.610000</td>\n",
       "      <td>92404.090000</td>\n",
       "      <td>2013.000000</td>\n",
       "      <td>NaN</td>\n",
       "    </tr>\n",
       "    <tr>\n",
       "      <th>75%</th>\n",
       "      <td>111490.750000</td>\n",
       "      <td>105839.135000</td>\n",
       "      <td>132876.450000</td>\n",
       "      <td>2014.000000</td>\n",
       "      <td>NaN</td>\n",
       "    </tr>\n",
       "    <tr>\n",
       "      <th>max</th>\n",
       "      <td>148654.000000</td>\n",
       "      <td>567595.430000</td>\n",
       "      <td>567595.430000</td>\n",
       "      <td>2014.000000</td>\n",
       "      <td>NaN</td>\n",
       "    </tr>\n",
       "  </tbody>\n",
       "</table>\n",
       "</div>"
      ],
      "text/plain": [
       "                  Id       TotalPay  TotalPayBenefits           Year  Notes\n",
       "count  148654.000000  148654.000000     148654.000000  148654.000000    0.0\n",
       "mean    74327.500000   74768.321972      93692.554811    2012.522643    NaN\n",
       "std     42912.857795   50517.005274      62793.533483       1.117538    NaN\n",
       "min         1.000000    -618.130000       -618.130000    2011.000000    NaN\n",
       "25%     37164.250000   36168.995000      44065.650000    2012.000000    NaN\n",
       "50%     74327.500000   71426.610000      92404.090000    2013.000000    NaN\n",
       "75%    111490.750000  105839.135000     132876.450000    2014.000000    NaN\n",
       "max    148654.000000  567595.430000     567595.430000    2014.000000    NaN"
      ]
     },
     "execution_count": 4,
     "metadata": {},
     "output_type": "execute_result"
    }
   ],
   "source": [
    "df.describe()"
   ]
  },
  {
   "cell_type": "code",
   "execution_count": 5,
   "id": "ba4b506c-20fb-4e92-b7ad-cf5fa2276ee0",
   "metadata": {},
   "outputs": [
    {
     "name": "stdout",
     "output_type": "stream",
     "text": [
      "<class 'pandas.core.frame.DataFrame'>\n",
      "RangeIndex: 148654 entries, 0 to 148653\n",
      "Data columns (total 13 columns):\n",
      " #   Column            Non-Null Count   Dtype  \n",
      "---  ------            --------------   -----  \n",
      " 0   Id                148654 non-null  int64  \n",
      " 1   EmployeeName      148654 non-null  object \n",
      " 2   JobTitle          148654 non-null  object \n",
      " 3   BasePay           148049 non-null  object \n",
      " 4   OvertimePay       148654 non-null  object \n",
      " 5   OtherPay          148654 non-null  object \n",
      " 6   Benefits          112495 non-null  object \n",
      " 7   TotalPay          148654 non-null  float64\n",
      " 8   TotalPayBenefits  148654 non-null  float64\n",
      " 9   Year              148654 non-null  int64  \n",
      " 10  Notes             0 non-null       float64\n",
      " 11  Agency            148654 non-null  object \n",
      " 12  Status            38119 non-null   object \n",
      "dtypes: float64(3), int64(2), object(8)\n",
      "memory usage: 14.7+ MB\n"
     ]
    }
   ],
   "source": [
    "df.info()"
   ]
  },
  {
   "cell_type": "markdown",
   "id": "acca376b-c753-4059-a453-b3d6837bed6b",
   "metadata": {
    "jp-MarkdownHeadingCollapsed": true,
    "tags": []
   },
   "source": [
    "#### Data clean up"
   ]
  },
  {
   "cell_type": "markdown",
   "id": "f2cb4607-7ce1-4054-b937-de12b7f51abd",
   "metadata": {},
   "source": [
    "We could start by dropping the 'Id' column because it adds no information to any employee, and the 'Notes' column, since it only has null values. Then we took a look at 'Agency' and found out that the only value is 'San Francisco', so that one could be dropped as well. We also thought that since there are south of 1000 'BasePay' null values, we could delete those rows without hesitation."
   ]
  },
  {
   "cell_type": "code",
   "execution_count": 6,
   "id": "8947a82e-e047-4340-ae69-7e77e5b9b2b8",
   "metadata": {},
   "outputs": [
    {
     "data": {
      "text/plain": [
       "<AxesSubplot:>"
      ]
     },
     "execution_count": 6,
     "metadata": {},
     "output_type": "execute_result"
    },
    {
     "data": {
      "image/png": "[encoded data removed]",
      "text/plain": [
       "<Figure size 432x288 with 1 Axes>"
      ]
     },
     "metadata": {
      "needs_background": "light"
     },
     "output_type": "display_data"
    }
   ],
   "source": [
    "df.Agency.hist()"
   ]
  },
  {
   "cell_type": "code",
   "execution_count": 7,
   "id": "6301064e-2a9b-452a-b0b1-33e9ce6ba9ea",
   "metadata": {},
   "outputs": [],
   "source": [
    "df = df.drop(['Notes', 'Agency', 'Id', 'Status'], axis=1)\n",
    "df = df[df.BasePay.notnull()]"
   ]
  },
  {
   "cell_type": "markdown",
   "id": "434e2ed5-8d22-4292-847a-a79a8806b898",
   "metadata": {},
   "source": [
    "After that, we wondered why some columns such as 'BasePay', 'OvertimePay', 'OtherPay' or 'Benefits' had an object data type. We discovered that 4 entries have value 'Not provided'. Since those rows gave us absolutely no data, we dropped them and changed the data types."
   ]
  },
  {
   "cell_type": "code",
   "execution_count": 8,
   "id": "f1c398da-fed7-4053-a598-076583bd601b",
   "metadata": {},
   "outputs": [
    {
     "data": {
      "text/plain": [
       "4"
      ]
     },
     "execution_count": 8,
     "metadata": {},
     "output_type": "execute_result"
    }
   ],
   "source": [
    "df['BasePay'].eq('Not Provided').sum()"
   ]
  },
  {
   "cell_type": "code",
   "execution_count": 9,
   "id": "5bc71651-b424-41e2-9851-0bafbd254623",
   "metadata": {},
   "outputs": [],
   "source": [
    "df = df[df.BasePay.ne('Not Provided')]"
   ]
  },
  {
   "cell_type": "code",
   "execution_count": 10,
   "id": "e206286c-7304-4e1f-bd75-b105b47e1401",
   "metadata": {},
   "outputs": [],
   "source": [
    "df.BasePay = df.BasePay.astype('float64')\n",
    "df.OvertimePay = df.OvertimePay.astype('float64')\n",
    "df.OtherPay = df.OtherPay.astype('float64')\n",
    "df.Benefits = df.Benefits.astype('float64')"
   ]
  },
  {
   "cell_type": "markdown",
   "id": "4022b0f0-1cb6-4cb6-8916-205c8ef4332b",
   "metadata": {},
   "source": [
    "As per 'Benefits', we saw that some 40k entries have a null value: those are way too many to drop, so we thought that maybe when 'Benefits' is null, then it means there were no benefits, so 'TotalPayBenefits' should be equal to 'TotalPay'. After proving it right, we set all null values in 'Benefits' to 0."
   ]
  },
  {
   "cell_type": "code",
   "execution_count": 11,
   "id": "149b9e0a-2fcc-438a-be72-b66130a8ef58",
   "metadata": {},
   "outputs": [
    {
     "data": {
      "text/plain": [
       "True"
      ]
     },
     "execution_count": 11,
     "metadata": {},
     "output_type": "execute_result"
    }
   ],
   "source": [
    "(df.TotalPay[df.Benefits.isnull()] == df.TotalPayBenefits[df.Benefits.isnull()]).all()"
   ]
  },
  {
   "cell_type": "code",
   "execution_count": 12,
   "id": "d8f471e8-32a7-42c4-8c05-9b38fe03b76c",
   "metadata": {},
   "outputs": [],
   "source": [
    "df.loc[df.Benefits.isnull(), 'Benefits'] = 0"
   ]
  },
  {
   "cell_type": "markdown",
   "id": "5222da1d-eee0-4760-b150-32410e58a4b8",
   "metadata": {},
   "source": [
    "We also thought that it didn't make much sense to have negative salaries, or any kind of pay, so they are going to be dropped. The reason for a negative salary might be related to a compensation due to a scheduling error."
   ]
  },
  {
   "cell_type": "raw",
   "id": "b217928c-9440-4131-9863-ce4377f06f7c",
   "metadata": {},
   "source": [
    "df = df[df.BasePay.ge(0) * df.OvertimePay.ge(0) * df.OtherPay.ge(0) * df.Benefits.ge(0) * df.TotalPay.ge(0) * df.TotalPayBenefits.ge(0)]"
   ]
  },
  {
   "cell_type": "code",
   "execution_count": 13,
   "id": "0c2da19a-6ffa-4ca6-9fcd-2a550e32db7b",
   "metadata": {},
   "outputs": [],
   "source": [
    "df = df[df.iloc[:, np.array([df.dtypes == 'float64']).reshape(df.shape[1], )].ge(0).all(axis=1)]\n",
    "df = df.reset_index(drop=True)"
   ]
  },
  {
   "cell_type": "markdown",
   "id": "f96a06e2-dcee-4966-9fa7-6b886c6f1781",
   "metadata": {},
   "source": [
    "Now the data is pretty clean, but we thought it would be a good idea to have every 'JobTitle' in uppercase letters, and to delete all extra spaces which could mess up some string comprehension we might take on later."
   ]
  },
  {
   "cell_type": "code",
   "execution_count": 14,
   "id": "61bdd05f-acd5-4e89-a9cf-f5e87775d8eb",
   "metadata": {
    "tags": []
   },
   "outputs": [],
   "source": [
    "df.JobTitle = df.JobTitle.str.upper()\n",
    "df.JobTitle = df.JobTitle.replace(to_replace=r'  +', value=' ', regex=True)\n",
    "df.EmployeeName = df.EmployeeName.str.upper()\n",
    "df.EmployeeName = df.EmployeeName.replace(to_replace=r'  +', value=' ', regex=True)"
   ]
  },
  {
   "cell_type": "code",
   "execution_count": 15,
   "id": "90175c9c-2dff-426e-ba07-9383db0fcb20",
   "metadata": {},
   "outputs": [
    {
     "data": {
      "text/html": [
       "<div>\n",
       "<style scoped>\n",
       "    .dataframe tbody tr th:only-of-type {\n",
       "        vertical-align: middle;\n",
       "    }\n",
       "\n",
       "    .dataframe tbody tr th {\n",
       "        vertical-align: top;\n",
       "    }\n",
       "\n",
       "    .dataframe thead th {\n",
       "        text-align: right;\n",
       "    }\n",
       "</style>\n",
       "<table border=\"1\" class=\"dataframe\">\n",
       "  <thead>\n",
       "    <tr style=\"text-align: right;\">\n",
       "      <th></th>\n",
       "      <th>BasePay</th>\n",
       "      <th>OvertimePay</th>\n",
       "      <th>OtherPay</th>\n",
       "      <th>Benefits</th>\n",
       "      <th>TotalPay</th>\n",
       "      <th>TotalPayBenefits</th>\n",
       "      <th>Year</th>\n",
       "    </tr>\n",
       "  </thead>\n",
       "  <tbody>\n",
       "    <tr>\n",
       "      <th>count</th>\n",
       "      <td>148027.000000</td>\n",
       "      <td>148027.000000</td>\n",
       "      <td>148027.000000</td>\n",
       "      <td>148027.000000</td>\n",
       "      <td>148027.000000</td>\n",
       "      <td>148027.000000</td>\n",
       "      <td>148027.000000</td>\n",
       "    </tr>\n",
       "    <tr>\n",
       "      <th>mean</th>\n",
       "      <td>66331.428168</td>\n",
       "      <td>5087.334185</td>\n",
       "      <td>3646.079395</td>\n",
       "      <td>18981.854008</td>\n",
       "      <td>75064.841748</td>\n",
       "      <td>94046.695756</td>\n",
       "      <td>2012.520655</td>\n",
       "    </tr>\n",
       "    <tr>\n",
       "      <th>std</th>\n",
       "      <td>42762.323488</td>\n",
       "      <td>11473.751595</td>\n",
       "      <td>8019.832754</td>\n",
       "      <td>17176.358349</td>\n",
       "      <td>50407.656154</td>\n",
       "      <td>62680.706812</td>\n",
       "      <td>1.119432</td>\n",
       "    </tr>\n",
       "    <tr>\n",
       "      <th>min</th>\n",
       "      <td>0.000000</td>\n",
       "      <td>0.000000</td>\n",
       "      <td>0.000000</td>\n",
       "      <td>0.000000</td>\n",
       "      <td>0.000000</td>\n",
       "      <td>0.000000</td>\n",
       "      <td>2011.000000</td>\n",
       "    </tr>\n",
       "    <tr>\n",
       "      <th>25%</th>\n",
       "      <td>33599.910000</td>\n",
       "      <td>0.000000</td>\n",
       "      <td>0.000000</td>\n",
       "      <td>0.000000</td>\n",
       "      <td>36989.785000</td>\n",
       "      <td>45100.210000</td>\n",
       "      <td>2012.000000</td>\n",
       "    </tr>\n",
       "    <tr>\n",
       "      <th>50%</th>\n",
       "      <td>65010.820000</td>\n",
       "      <td>0.000000</td>\n",
       "      <td>817.590000</td>\n",
       "      <td>23471.230000</td>\n",
       "      <td>71649.200000</td>\n",
       "      <td>92680.690000</td>\n",
       "      <td>2013.000000</td>\n",
       "    </tr>\n",
       "    <tr>\n",
       "      <th>75%</th>\n",
       "      <td>94691.060000</td>\n",
       "      <td>4696.820000</td>\n",
       "      <td>4243.500000</td>\n",
       "      <td>33508.710000</td>\n",
       "      <td>106031.075000</td>\n",
       "      <td>133096.950000</td>\n",
       "      <td>2014.000000</td>\n",
       "    </tr>\n",
       "    <tr>\n",
       "      <th>max</th>\n",
       "      <td>319275.010000</td>\n",
       "      <td>245131.880000</td>\n",
       "      <td>400184.250000</td>\n",
       "      <td>96570.660000</td>\n",
       "      <td>567595.430000</td>\n",
       "      <td>567595.430000</td>\n",
       "      <td>2014.000000</td>\n",
       "    </tr>\n",
       "  </tbody>\n",
       "</table>\n",
       "</div>"
      ],
      "text/plain": [
       "             BasePay    OvertimePay       OtherPay       Benefits  \\\n",
       "count  148027.000000  148027.000000  148027.000000  148027.000000   \n",
       "mean    66331.428168    5087.334185    3646.079395   18981.854008   \n",
       "std     42762.323488   11473.751595    8019.832754   17176.358349   \n",
       "min         0.000000       0.000000       0.000000       0.000000   \n",
       "25%     33599.910000       0.000000       0.000000       0.000000   \n",
       "50%     65010.820000       0.000000     817.590000   23471.230000   \n",
       "75%     94691.060000    4696.820000    4243.500000   33508.710000   \n",
       "max    319275.010000  245131.880000  400184.250000   96570.660000   \n",
       "\n",
       "            TotalPay  TotalPayBenefits           Year  \n",
       "count  148027.000000     148027.000000  148027.000000  \n",
       "mean    75064.841748      94046.695756    2012.520655  \n",
       "std     50407.656154      62680.706812       1.119432  \n",
       "min         0.000000          0.000000    2011.000000  \n",
       "25%     36989.785000      45100.210000    2012.000000  \n",
       "50%     71649.200000      92680.690000    2013.000000  \n",
       "75%    106031.075000     133096.950000    2014.000000  \n",
       "max    567595.430000     567595.430000    2014.000000  "
      ]
     },
     "execution_count": 15,
     "metadata": {},
     "output_type": "execute_result"
    }
   ],
   "source": [
    "df.describe()"
   ]
  },
  {
   "cell_type": "markdown",
   "id": "3be69b93-bf35-422c-b0b7-0dace083e0a0",
   "metadata": {
    "jp-MarkdownHeadingCollapsed": true,
    "tags": []
   },
   "source": [
    "### Data analysis"
   ]
  },
  {
   "cell_type": "markdown",
   "id": "2b204d2d-f90c-48d5-b0b4-28ad744fc4cb",
   "metadata": {
    "jp-MarkdownHeadingCollapsed": true,
    "tags": []
   },
   "source": [
    "#### Salary classification"
   ]
  },
  {
   "cell_type": "code",
   "execution_count": 16,
   "id": "57b389ae-2687-438e-8c66-89a461a4dc76",
   "metadata": {
    "tags": []
   },
   "outputs": [
    {
     "data": {
      "text/plain": [
       "<seaborn.axisgrid.FacetGrid at 0x7fea74396550>"
      ]
     },
     "execution_count": 16,
     "metadata": {},
     "output_type": "execute_result"
    },
    {
     "data": {
      "image/png": "[encoded data removed]",
      "text/plain": [
       "<Figure size 360x360 with 1 Axes>"
      ]
     },
     "metadata": {
      "needs_background": "light"
     },
     "output_type": "display_data"
    }
   ],
   "source": [
    "sns.displot(df.TotalPay)"
   ]
  },
  {
   "cell_type": "markdown",
   "id": "3fc8f2ac-1bf4-437d-8f0c-2cd18493cc48",
   "metadata": {},
   "source": [
    "It follows multimodal distribution, so we split the data around the anual minimum wage for a full time job, which was around 21k a year."
   ]
  },
  {
   "cell_type": "code",
   "execution_count": 17,
   "id": "44a6b2e7-8cae-4708-85e4-ac7ce29d69c4",
   "metadata": {},
   "outputs": [
    {
     "data": {
      "text/plain": [
       "<seaborn.axisgrid.FacetGrid at 0x7fea25c32a00>"
      ]
     },
     "execution_count": 17,
     "metadata": {},
     "output_type": "execute_result"
    },
    {
     "data": {
      "image/png": "[encoded data removed]",
      "text/plain": [
       "<Figure size 360x360 with 1 Axes>"
      ]
     },
     "metadata": {
      "needs_background": "light"
     },
     "output_type": "display_data"
    }
   ],
   "source": [
    "sns.displot(df.TotalPay[df.BasePay > 2.1e4], kde=True)"
   ]
  },
  {
   "cell_type": "markdown",
   "id": "c020b198-62ff-464a-8e94-13fd064430ba",
   "metadata": {},
   "source": [
    "It becomes more gaussian-y, although it is still right-tailed."
   ]
  },
  {
   "cell_type": "markdown",
   "id": "6f7e6fa3-d34b-411e-9fc4-a30e73848a5f",
   "metadata": {},
   "source": [
    "Let's check out the other part now."
   ]
  },
  {
   "cell_type": "code",
   "execution_count": 18,
   "id": "d2db505d-382e-46f8-b8df-97a6eaa9ace7",
   "metadata": {},
   "outputs": [
    {
     "data": {
      "text/plain": [
       "<seaborn.axisgrid.FacetGrid at 0x7fea25dac730>"
      ]
     },
     "execution_count": 18,
     "metadata": {},
     "output_type": "execute_result"
    },
    {
     "data": {
      "image/png": "[encoded data removed]",
      "text/plain": [
       "<Figure size 360x360 with 1 Axes>"
      ]
     },
     "metadata": {
      "needs_background": "light"
     },
     "output_type": "display_data"
    }
   ],
   "source": [
    "sns.displot(df.TotalPay[df.BasePay < 2.1e4], kde=True)"
   ]
  },
  {
   "cell_type": "markdown",
   "id": "fb5ba4bb-11d5-4b4f-a817-e1e589bef918",
   "metadata": {},
   "source": [
    "It's not gaussian at all: we can't even see it properly, but there are a few employees with a lower than minimum wage base salary but still end up making north of 200k, so its over 9 times their base salary in overtime pay (or other pay). Could those be fire fighters pulling 14 hour shifts or world known surgeons performing almost impossible operations?"
   ]
  },
  {
   "cell_type": "code",
   "execution_count": 19,
   "id": "3af7dd8d-9f4a-45f6-acbd-6f768ac908e1",
   "metadata": {},
   "outputs": [
    {
     "data": {
      "text/plain": [
       "46090                           LIEUTENANT 3\n",
       "120246                             CAPTAIN 3\n",
       "3488      LIEUTENANT III (POLICE DEPARTMENT)\n",
       "3263                              MANAGER VI\n",
       "2896                             MANAGER VII\n",
       "81541                       POLICE OFFICER 3\n",
       "118992        CHIEF ATTY1 (CIVIL & CRIMINAL)\n",
       "43797              CAPTAIN, FIRE SUPPRESSION\n",
       "1887      INSPECTOR III, (POLICE DEPARTMENT)\n",
       "113146               SENIOR MUSEUM REGISTRAR\n",
       "1669      INSPECTOR III, (POLICE DEPARTMENT)\n",
       "39843                            INSPECTOR 3\n",
       "40140         BATTLION CHIEF, FIRE SUPPRESSI\n",
       "39613               ASSISTANT DEPUTY CHIEF 2\n",
       "36888         CHIEF ATTY1 (CIVIL & CRIMINAL)\n",
       "Name: JobTitle, dtype: object"
      ]
     },
     "execution_count": 19,
     "metadata": {},
     "output_type": "execute_result"
    }
   ],
   "source": [
    "df.iloc[df.TotalPay[df.BasePay < 2.1e4].sort_values().index[-15:]].JobTitle"
   ]
  },
  {
   "cell_type": "markdown",
   "id": "e87a6c6c-c27d-4acf-a097-8ba37830d2c6",
   "metadata": {},
   "source": [
    "We can see no doctors, but we do see police officers, fire fighters, attorneys some general managers and a very good museum registrar."
   ]
  },
  {
   "cell_type": "markdown",
   "id": "2b411ede-d251-4264-9602-288fa21339ce",
   "metadata": {},
   "source": [
    "Since the full time jobs year round look so much more promising than the others, we'll only deal with those."
   ]
  },
  {
   "cell_type": "code",
   "execution_count": 20,
   "id": "147704a5-0089-45dc-a088-fcd7309525ce",
   "metadata": {},
   "outputs": [],
   "source": [
    "df = df[df.BasePay > 2.1e4]"
   ]
  },
  {
   "cell_type": "markdown",
   "id": "b552aa57-15cf-4b26-89ae-3ed09f66c480",
   "metadata": {
    "tags": []
   },
   "source": [
    "#### Job classification"
   ]
  },
  {
   "cell_type": "markdown",
   "id": "656f4b6e-9f77-4a67-8ec2-1985dbc9cea5",
   "metadata": {},
   "source": [
    "Let's see what kind of jobs are the most common and their head count."
   ]
  },
  {
   "cell_type": "code",
   "execution_count": 21,
   "id": "f6853652-2726-47bf-aca0-2e1f63a46184",
   "metadata": {},
   "outputs": [],
   "source": [
    "unique_jobs, count_jobs = np.unique(df.JobTitle, return_counts=True)"
   ]
  },
  {
   "cell_type": "code",
   "execution_count": 22,
   "id": "7a073685-5f88-4c88-bb0a-3ae8e5cda918",
   "metadata": {},
   "outputs": [
    {
     "data": {
      "text/plain": [
       "array(['TRANSIT OPERATOR', 'REGISTERED NURSE', 'FIREFIGHTER', 'CUSTODIAN',\n",
       "       'SPECIAL NURSE', 'DEPUTY SHERIFF', 'POLICE OFFICER 3',\n",
       "       'ATTORNEY (CIVIL/CRIMINAL)', 'PATIENT CARE ASSISTANT',\n",
       "       'POLICE OFFICER', 'GENERAL LABORER', 'PORTER', 'POLICE OFFICER 2',\n",
       "       'GARDENER', 'PARKING CONTROL OFFICER', 'SERGEANT 3',\n",
       "       'SENIOR CLERK TYPIST', 'EMT/PARAMEDIC/FIREFIGHTER', 'SENIOR CLERK',\n",
       "       'SENIOR ELIGIBILITY WORKER'], dtype=object)"
      ]
     },
     "execution_count": 22,
     "metadata": {},
     "output_type": "execute_result"
    }
   ],
   "source": [
    "unique_jobs[np.argsort(count_jobs)][::-1][:20]"
   ]
  },
  {
   "cell_type": "code",
   "execution_count": 23,
   "id": "2660b89e-f57b-4713-9487-1a24bd48b0b5",
   "metadata": {},
   "outputs": [
    {
     "data": {
      "text/plain": [
       "array([7954, 4745, 3082, ...,    1,    1,    1])"
      ]
     },
     "execution_count": 23,
     "metadata": {},
     "output_type": "execute_result"
    }
   ],
   "source": [
    "sorted_count_jobs = np.array(sorted(count_jobs, reverse=True))\n",
    "sorted_count_jobs"
   ]
  },
  {
   "cell_type": "code",
   "execution_count": 24,
   "id": "eee4efe9-9a17-46f6-b4ca-b74fa8e68a0b",
   "metadata": {},
   "outputs": [
    {
     "data": {
      "text/plain": [
       "<seaborn.axisgrid.FacetGrid at 0x7fea2a8498e0>"
      ]
     },
     "execution_count": 24,
     "metadata": {},
     "output_type": "execute_result"
    },
    {
     "data": {
      "image/png": "[encoded data removed]",
      "text/plain": [
       "<Figure size 360x360 with 1 Axes>"
      ]
     },
     "metadata": {
      "needs_background": "light"
     },
     "output_type": "display_data"
    }
   ],
   "source": [
    "sns.displot(sorted_count_jobs, bins=20)"
   ]
  },
  {
   "cell_type": "markdown",
   "id": "627b95e8-f1b9-4ff5-aff3-9ba92c06be44",
   "metadata": {},
   "source": [
    "There is an important number of jobs which only a few people do, so we should exclude them because there wouldn't be enough data to predict it correctly. "
   ]
  },
  {
   "cell_type": "code",
   "execution_count": 25,
   "id": "d8353c24-593c-4ce5-9856-7a33e173045b",
   "metadata": {},
   "outputs": [],
   "source": [
    "max_jobs = sorted_count_jobs[sorted_count_jobs > 200].shape[0]\n",
    "df = df[df.JobTitle.isin(unique_jobs[np.argsort(count_jobs)][::-1][:max_jobs])].reset_index(drop=True)"
   ]
  },
  {
   "cell_type": "markdown",
   "id": "2f389cee-76c5-43a0-b03f-66b1000d5d21",
   "metadata": {},
   "source": [
    "It might be interesting to group some jobs together and see how they work as a whole. We decided to group them according to the area, which could be all hospital or medical related jobs, police, fire fighters,..."
   ]
  },
  {
   "cell_type": "markdown",
   "id": "974c2ce2-69b6-4744-89f1-bab93bbd5c60",
   "metadata": {},
   "source": [
    "The following function has been made to add new columns built from data from the other columns."
   ]
  },
  {
   "cell_type": "code",
   "execution_count": 26,
   "id": "8cff4478-4eb8-4ebc-b404-b2db4791e564",
   "metadata": {},
   "outputs": [],
   "source": [
    "def add_classification(df, column, new_column, keywords):\n",
    "    for classification in keywords.keys():\n",
    "        for keyword in keywords[classification]:\n",
    "            df.loc[df[column].str.contains(keyword), new_column] = classification"
   ]
  },
  {
   "cell_type": "markdown",
   "id": "81c73c38-7797-451c-9707-98b541a773c0",
   "metadata": {},
   "source": [
    "This dictionary is based on the one that user 'mannychapman' [https://www.kaggle.com/mannychapman] published on kaggle in 2018."
   ]
  },
  {
   "cell_type": "code",
   "execution_count": 27,
   "id": "5ee001e8-24fa-48f4-b647-fe5518340ace",
   "metadata": {},
   "outputs": [],
   "source": [
    "job_classification = {'FIRE': ['FIRE'],\n",
    "                     'POLICE': ['POLICE', 'SHERIF', 'PROBATION', 'SERGEANT', 'FORENSIC'],\n",
    "                     'TRANSIT': ['TRANSIT', 'MTA', 'TRANSPORT', 'TRAF'],\n",
    "                     'MEDICAL': ['MEDICAL', 'ANESTH',  'NURS', 'HEALTH', 'ORTHOPEDIC', 'PHYSICIAN', 'HEALTH', 'PHARM', 'DIAGNOSTIC', 'PSYCH', 'SURG', 'HOSPITAL', 'DENTAL', 'THERAP', 'EPIDEM', 'DISEASE', 'BACTER'],\n",
    "                     'AIRPORT': ['AIRPORT'],\n",
    "                     'ANIMAL': ['ANIMAL'],\n",
    "                     'ARCHITECTURAL': ['ARCHITECT'],\n",
    "                     'COURT': ['COURT', 'LEGAL', 'COUNSELOR', 'LAW', 'FISCAL'],\n",
    "                     'MAYOR': ['MAYOR'],\n",
    "                     'LIBRARY': ['LIBRAR'],\n",
    "                     'PARKING': ['PARKING'],\n",
    "                     'PUBLIC WORKS': ['PUBLIC WORKS', 'BUILD', 'CEMENT', 'BRICK'],\n",
    "                     'ATTORNEY': ['ATTORNEY'],\n",
    "                     'AUTOMOTIVE': ['AUTOMOTIVE', 'CAR '],\n",
    "                     'CUSTODIAN': ['CUSTODIAN'],\n",
    "                     'ENGINEER': ['ENGINEER', 'ENGR', 'ENG'],\n",
    "                     'ACCOUNTING': ['ACCOUNT'],\n",
    "                     'GARDENER': ['GARDEN', 'TREE', 'FOREST'],\n",
    "                     'GENERAL LABORER': ['GENERAL LABORER', 'PLUM ', 'MECHANIC', 'ELECTRICIAN', 'REPAIRER', 'PAINTER', 'CARPENTER', 'CLEANER'],\n",
    "                     'FOOD SERVICE': ['FOOD SERV'],\n",
    "                     'CLERK': ['CLERK'],\n",
    "                     'PORTER': ['PORTER'],\n",
    "                     'PORT': ['PORT '],\n",
    "                     'GUARD': ['GUARD'],\n",
    "                     'HUMAN RESOURCES': ['HUMAN']}"
   ]
  },
  {
   "cell_type": "code",
   "execution_count": 28,
   "id": "5e3843f9-a470-4f59-af37-8d4633984e16",
   "metadata": {},
   "outputs": [],
   "source": [
    "add_classification(df, 'JobTitle', 'JobArea', job_classification)"
   ]
  },
  {
   "cell_type": "markdown",
   "id": "085e3e96-b41c-4a9f-8c49-a724f0bb2011",
   "metadata": {},
   "source": [
    "Of course some jobs don't fit into these classifications, so we are gonna drop those."
   ]
  },
  {
   "cell_type": "code",
   "execution_count": 29,
   "id": "4f70ed94-a118-4cc4-885d-dae74a6d82f8",
   "metadata": {},
   "outputs": [],
   "source": [
    "df = df[df.JobArea.notna()]"
   ]
  },
  {
   "cell_type": "markdown",
   "id": "4091bb0e-6ec0-48bd-a558-a4c043235fdc",
   "metadata": {
    "jp-MarkdownHeadingCollapsed": true,
    "tags": []
   },
   "source": [
    "#### Gender classification"
   ]
  },
  {
   "cell_type": "markdown",
   "id": "67d96bc1-6652-4abc-b9b9-02863324799a",
   "metadata": {},
   "source": [
    "You might have wondered why we didn't drop the 'EmployeeName' column. It's because we wanted to try to guess the gender of each employee based on their name, so we got a database of male and female names and looked for coincidences in their first names."
   ]
  },
  {
   "cell_type": "code",
   "execution_count": 30,
   "id": "1d910a30-a1d6-4bec-8655-0a5838092782",
   "metadata": {},
   "outputs": [],
   "source": [
    "womens_names = pd.read_csv(r\"../../data/babies-first-names-top-100-girls.csv\", header=0, delimiter=',')\n",
    "mens_names = pd.read_csv(r\"../../data/babies-first-names-top-100-boys.csv\", header=0, delimiter=',')"
   ]
  },
  {
   "cell_type": "code",
   "execution_count": 31,
   "id": "745ff419-1663-42ef-95f7-5cf4763f7123",
   "metadata": {},
   "outputs": [],
   "source": [
    "womens_names.FirstForename = womens_names.FirstForename.str.upper()\n",
    "mens_names.FirstForename = mens_names.FirstForename.str.upper()"
   ]
  },
  {
   "cell_type": "code",
   "execution_count": 32,
   "id": "fb9b6c8f-d414-4139-9f4a-3a6760efe13b",
   "metadata": {},
   "outputs": [],
   "source": [
    "gender_classification = {'F': womens_names.FirstForename.to_list(),\n",
    "                        'M': mens_names.FirstForename.to_list()}"
   ]
  },
  {
   "cell_type": "code",
   "execution_count": 33,
   "id": "5d9d25a9-db85-49dc-926d-80e1e83c125c",
   "metadata": {},
   "outputs": [],
   "source": [
    "df.loc[:, 'FirstName'] = df.EmployeeName.apply(lambda x: ''.join(x.split()[0]))"
   ]
  },
  {
   "cell_type": "code",
   "execution_count": 34,
   "id": "8cf5cc4a-d020-417f-9ad7-917d91626cfe",
   "metadata": {},
   "outputs": [],
   "source": [
    "add_classification(df, 'FirstName', 'Gender', gender_classification)"
   ]
  },
  {
   "cell_type": "code",
   "execution_count": 35,
   "id": "d354c9a0-b05b-4e42-bb01-873d5adeb7ca",
   "metadata": {},
   "outputs": [
    {
     "data": {
      "text/plain": [
       "<seaborn.axisgrid.FacetGrid at 0x7fea26bc6610>"
      ]
     },
     "execution_count": 35,
     "metadata": {},
     "output_type": "execute_result"
    },
    {
     "data": {
      "image/png": "[encoded data removed]",
      "text/plain": [
       "<Figure size 360x360 with 1 Axes>"
      ]
     },
     "metadata": {
      "needs_background": "light"
     },
     "output_type": "display_data"
    }
   ],
   "source": [
    "sns.displot(df.Gender)"
   ]
  },
  {
   "cell_type": "markdown",
   "id": "a09c29a9-db3f-4e56-87f5-a35e21f9cd34",
   "metadata": {},
   "source": [
    "Many haven't been classified, especially women, and that could bias our predictions severely. so we'll have to cut out the extra men and unclassified."
   ]
  },
  {
   "cell_type": "code",
   "execution_count": 36,
   "id": "8f4a6811-ffb7-426d-aa94-a4eefecb134e",
   "metadata": {},
   "outputs": [],
   "source": [
    "df = pd.concat([df.loc[df.Gender.eq('M')][:df.Gender.eq('F').sum()], df.loc[df.Gender.eq('F')]]).reset_index(drop=True)"
   ]
  },
  {
   "cell_type": "markdown",
   "id": "e9bfc6a7-0d92-4958-8977-5dc266526ce9",
   "metadata": {
    "jp-MarkdownHeadingCollapsed": true,
    "tags": []
   },
   "source": [
    "#### Ranking classification"
   ]
  },
  {
   "cell_type": "markdown",
   "id": "35b0f095-2c05-4160-862c-b48ef3132692",
   "metadata": {},
   "source": [
    "The last of one we have tried to implement is the ranking classification. We only really used two rankings because we wanted to see the salary disparities between entry level jobs and the others."
   ]
  },
  {
   "cell_type": "code",
   "execution_count": 37,
   "id": "7d453141-8815-46fd-b822-45ca8c414379",
   "metadata": {},
   "outputs": [],
   "source": [
    "ranking_classification = {'LOW': [''],\n",
    "                          'HIGH': ['SENIOR', 'MANAGER', 'III', 'IV', ' V', 'VI', 'CHIEF', 'HEAD', 'DIRECTOR', 'SUPERVISOR', 'CAPTAIN', 'LIEUTENANT', 'SERGEANT']}"
   ]
  },
  {
   "cell_type": "code",
   "execution_count": 38,
   "id": "4ca1e5ac-ac92-4101-bc75-8458659f0ed4",
   "metadata": {},
   "outputs": [],
   "source": [
    "add_classification(df, 'JobTitle', 'Ranking', ranking_classification)"
   ]
  },
  {
   "cell_type": "markdown",
   "id": "4dbfbccf-2807-4df3-b47d-edf4cae8bb69",
   "metadata": {},
   "source": [
    "Let's take a look at the data now to see what we've done."
   ]
  },
  {
   "cell_type": "code",
   "execution_count": 39,
   "id": "78ac0df0-496b-4781-9f0b-4eb97a792460",
   "metadata": {},
   "outputs": [
    {
     "data": {
      "text/html": [
       "<div>\n",
       "<style scoped>\n",
       "    .dataframe tbody tr th:only-of-type {\n",
       "        vertical-align: middle;\n",
       "    }\n",
       "\n",
       "    .dataframe tbody tr th {\n",
       "        vertical-align: top;\n",
       "    }\n",
       "\n",
       "    .dataframe thead th {\n",
       "        text-align: right;\n",
       "    }\n",
       "</style>\n",
       "<table border=\"1\" class=\"dataframe\">\n",
       "  <thead>\n",
       "    <tr style=\"text-align: right;\">\n",
       "      <th></th>\n",
       "      <th>EmployeeName</th>\n",
       "      <th>JobTitle</th>\n",
       "      <th>BasePay</th>\n",
       "      <th>OvertimePay</th>\n",
       "      <th>OtherPay</th>\n",
       "      <th>Benefits</th>\n",
       "      <th>TotalPay</th>\n",
       "      <th>TotalPayBenefits</th>\n",
       "      <th>Year</th>\n",
       "      <th>JobArea</th>\n",
       "      <th>FirstName</th>\n",
       "      <th>Gender</th>\n",
       "      <th>Ranking</th>\n",
       "    </tr>\n",
       "  </thead>\n",
       "  <tbody>\n",
       "    <tr>\n",
       "      <th>0</th>\n",
       "      <td>GEORGE GARCIA</td>\n",
       "      <td>CAPTAIN, FIRE SUPPRESSION</td>\n",
       "      <td>140546.88</td>\n",
       "      <td>93200.58</td>\n",
       "      <td>39955.25</td>\n",
       "      <td>0.00</td>\n",
       "      <td>273702.71</td>\n",
       "      <td>273702.71</td>\n",
       "      <td>2011</td>\n",
       "      <td>FIRE</td>\n",
       "      <td>GEORGE</td>\n",
       "      <td>M</td>\n",
       "      <td>HIGH</td>\n",
       "    </tr>\n",
       "    <tr>\n",
       "      <th>1</th>\n",
       "      <td>JOSEPH DRISCOLL</td>\n",
       "      <td>CAPTAIN, FIRE SUPPRESSION</td>\n",
       "      <td>140546.86</td>\n",
       "      <td>97868.77</td>\n",
       "      <td>31909.28</td>\n",
       "      <td>0.00</td>\n",
       "      <td>270324.91</td>\n",
       "      <td>270324.91</td>\n",
       "      <td>2011</td>\n",
       "      <td>FIRE</td>\n",
       "      <td>JOSEPH</td>\n",
       "      <td>M</td>\n",
       "      <td>HIGH</td>\n",
       "    </tr>\n",
       "    <tr>\n",
       "      <th>2</th>\n",
       "      <td>JOHN HANLEY</td>\n",
       "      <td>CAPTAIN, FIRE SUPPRESSION</td>\n",
       "      <td>92080.80</td>\n",
       "      <td>40008.00</td>\n",
       "      <td>133695.76</td>\n",
       "      <td>0.00</td>\n",
       "      <td>265784.56</td>\n",
       "      <td>265784.56</td>\n",
       "      <td>2011</td>\n",
       "      <td>FIRE</td>\n",
       "      <td>JOHN</td>\n",
       "      <td>M</td>\n",
       "      <td>HIGH</td>\n",
       "    </tr>\n",
       "    <tr>\n",
       "      <th>3</th>\n",
       "      <td>MICHAEL THOMPSON</td>\n",
       "      <td>FIREFIGHTER</td>\n",
       "      <td>123013.02</td>\n",
       "      <td>111729.65</td>\n",
       "      <td>15575.26</td>\n",
       "      <td>0.00</td>\n",
       "      <td>250317.93</td>\n",
       "      <td>250317.93</td>\n",
       "      <td>2011</td>\n",
       "      <td>FIRE</td>\n",
       "      <td>MICHAEL</td>\n",
       "      <td>M</td>\n",
       "      <td>LOW</td>\n",
       "    </tr>\n",
       "    <tr>\n",
       "      <th>4</th>\n",
       "      <td>MICHAEL ROLOVICH</td>\n",
       "      <td>CAPTAIN, FIRE SUPPRESSION</td>\n",
       "      <td>140546.87</td>\n",
       "      <td>77937.25</td>\n",
       "      <td>26203.69</td>\n",
       "      <td>0.00</td>\n",
       "      <td>244687.81</td>\n",
       "      <td>244687.81</td>\n",
       "      <td>2011</td>\n",
       "      <td>FIRE</td>\n",
       "      <td>MICHAEL</td>\n",
       "      <td>M</td>\n",
       "      <td>HIGH</td>\n",
       "    </tr>\n",
       "    <tr>\n",
       "      <th>...</th>\n",
       "      <td>...</td>\n",
       "      <td>...</td>\n",
       "      <td>...</td>\n",
       "      <td>...</td>\n",
       "      <td>...</td>\n",
       "      <td>...</td>\n",
       "      <td>...</td>\n",
       "      <td>...</td>\n",
       "      <td>...</td>\n",
       "      <td>...</td>\n",
       "      <td>...</td>\n",
       "      <td>...</td>\n",
       "      <td>...</td>\n",
       "    </tr>\n",
       "    <tr>\n",
       "      <th>22463</th>\n",
       "      <td>ELISABETH W ROBERTS</td>\n",
       "      <td>SPECIAL NURSE</td>\n",
       "      <td>21113.75</td>\n",
       "      <td>0.00</td>\n",
       "      <td>1382.18</td>\n",
       "      <td>224.97</td>\n",
       "      <td>22495.93</td>\n",
       "      <td>22720.90</td>\n",
       "      <td>2014</td>\n",
       "      <td>MEDICAL</td>\n",
       "      <td>ELISABETH</td>\n",
       "      <td>F</td>\n",
       "      <td>LOW</td>\n",
       "    </tr>\n",
       "    <tr>\n",
       "      <th>22464</th>\n",
       "      <td>EMMANUEL R PASCUAL</td>\n",
       "      <td>PORTER</td>\n",
       "      <td>21272.49</td>\n",
       "      <td>0.00</td>\n",
       "      <td>971.18</td>\n",
       "      <td>222.44</td>\n",
       "      <td>22243.67</td>\n",
       "      <td>22466.11</td>\n",
       "      <td>2014</td>\n",
       "      <td>PORTER</td>\n",
       "      <td>EMMANUEL</td>\n",
       "      <td>F</td>\n",
       "      <td>LOW</td>\n",
       "    </tr>\n",
       "    <tr>\n",
       "      <th>22465</th>\n",
       "      <td>ANDREA YEAGER</td>\n",
       "      <td>LIBRARIAN 1</td>\n",
       "      <td>21917.02</td>\n",
       "      <td>0.00</td>\n",
       "      <td>320.81</td>\n",
       "      <td>222.39</td>\n",
       "      <td>22237.83</td>\n",
       "      <td>22460.22</td>\n",
       "      <td>2014</td>\n",
       "      <td>LIBRARY</td>\n",
       "      <td>ANDREA</td>\n",
       "      <td>F</td>\n",
       "      <td>LOW</td>\n",
       "    </tr>\n",
       "    <tr>\n",
       "      <th>22466</th>\n",
       "      <td>AMY Y NG</td>\n",
       "      <td>NURSE PRACTITIONER</td>\n",
       "      <td>21964.18</td>\n",
       "      <td>0.00</td>\n",
       "      <td>0.00</td>\n",
       "      <td>219.68</td>\n",
       "      <td>21964.18</td>\n",
       "      <td>22183.86</td>\n",
       "      <td>2014</td>\n",
       "      <td>MEDICAL</td>\n",
       "      <td>AMY</td>\n",
       "      <td>F</td>\n",
       "      <td>LOW</td>\n",
       "    </tr>\n",
       "    <tr>\n",
       "      <th>22467</th>\n",
       "      <td>FANNY KUANG</td>\n",
       "      <td>PORTER</td>\n",
       "      <td>21852.00</td>\n",
       "      <td>0.00</td>\n",
       "      <td>0.00</td>\n",
       "      <td>218.52</td>\n",
       "      <td>21852.00</td>\n",
       "      <td>22070.52</td>\n",
       "      <td>2014</td>\n",
       "      <td>PORTER</td>\n",
       "      <td>FANNY</td>\n",
       "      <td>F</td>\n",
       "      <td>LOW</td>\n",
       "    </tr>\n",
       "  </tbody>\n",
       "</table>\n",
       "<p>22468 rows × 13 columns</p>\n",
       "</div>"
      ],
      "text/plain": [
       "              EmployeeName                   JobTitle    BasePay  OvertimePay  \\\n",
       "0            GEORGE GARCIA  CAPTAIN, FIRE SUPPRESSION  140546.88     93200.58   \n",
       "1          JOSEPH DRISCOLL  CAPTAIN, FIRE SUPPRESSION  140546.86     97868.77   \n",
       "2              JOHN HANLEY  CAPTAIN, FIRE SUPPRESSION   92080.80     40008.00   \n",
       "3         MICHAEL THOMPSON                FIREFIGHTER  123013.02    111729.65   \n",
       "4         MICHAEL ROLOVICH  CAPTAIN, FIRE SUPPRESSION  140546.87     77937.25   \n",
       "...                    ...                        ...        ...          ...   \n",
       "22463  ELISABETH W ROBERTS              SPECIAL NURSE   21113.75         0.00   \n",
       "22464   EMMANUEL R PASCUAL                     PORTER   21272.49         0.00   \n",
       "22465        ANDREA YEAGER                LIBRARIAN 1   21917.02         0.00   \n",
       "22466             AMY Y NG         NURSE PRACTITIONER   21964.18         0.00   \n",
       "22467          FANNY KUANG                     PORTER   21852.00         0.00   \n",
       "\n",
       "        OtherPay  Benefits   TotalPay  TotalPayBenefits  Year  JobArea  \\\n",
       "0       39955.25      0.00  273702.71         273702.71  2011     FIRE   \n",
       "1       31909.28      0.00  270324.91         270324.91  2011     FIRE   \n",
       "2      133695.76      0.00  265784.56         265784.56  2011     FIRE   \n",
       "3       15575.26      0.00  250317.93         250317.93  2011     FIRE   \n",
       "4       26203.69      0.00  244687.81         244687.81  2011     FIRE   \n",
       "...          ...       ...        ...               ...   ...      ...   \n",
       "22463    1382.18    224.97   22495.93          22720.90  2014  MEDICAL   \n",
       "22464     971.18    222.44   22243.67          22466.11  2014   PORTER   \n",
       "22465     320.81    222.39   22237.83          22460.22  2014  LIBRARY   \n",
       "22466       0.00    219.68   21964.18          22183.86  2014  MEDICAL   \n",
       "22467       0.00    218.52   21852.00          22070.52  2014   PORTER   \n",
       "\n",
       "       FirstName Gender Ranking  \n",
       "0         GEORGE      M    HIGH  \n",
       "1         JOSEPH      M    HIGH  \n",
       "2           JOHN      M    HIGH  \n",
       "3        MICHAEL      M     LOW  \n",
       "4        MICHAEL      M    HIGH  \n",
       "...          ...    ...     ...  \n",
       "22463  ELISABETH      F     LOW  \n",
       "22464   EMMANUEL      F     LOW  \n",
       "22465     ANDREA      F     LOW  \n",
       "22466        AMY      F     LOW  \n",
       "22467      FANNY      F     LOW  \n",
       "\n",
       "[22468 rows x 13 columns]"
      ]
     },
     "execution_count": 39,
     "metadata": {},
     "output_type": "execute_result"
    }
   ],
   "source": [
    "df"
   ]
  },
  {
   "cell_type": "markdown",
   "id": "9232ddad-1ce3-4638-a331-a99cd5538ab4",
   "metadata": {},
   "source": [
    "We had 140k entries at the beginning and we are already down to 30k, but it should be enough."
   ]
  },
  {
   "cell_type": "markdown",
   "id": "dae395c5-c591-48bb-b2d7-a7e0195ddb31",
   "metadata": {
    "tags": []
   },
   "source": [
    "### Model creation"
   ]
  },
  {
   "cell_type": "markdown",
   "id": "4b982729-c602-46c3-a1c4-9b4129d0507b",
   "metadata": {},
   "source": [
    "We have decided to try out a number of models and see which ones perform better on our data. When we find out which ones are the best, we will perform a bayesian hyperparameter search."
   ]
  },
  {
   "cell_type": "code",
   "execution_count": 41,
   "id": "d5c85e36-c5c4-442f-8c11-17446b4761f5",
   "metadata": {},
   "outputs": [],
   "source": [
    "linear_models = [TweedieRegressor(), Ridge(), Lasso(max_iter=10000), ElasticNet(), BayesianRidge(), \n",
    "          ARDRegression(), SGDRegressor(), PassiveAggressiveRegressor(), HuberRegressor()]"
   ]
  },
  {
   "cell_type": "code",
   "execution_count": 42,
   "id": "e15aeae3-b85a-47ca-9071-f650c05605e2",
   "metadata": {},
   "outputs": [],
   "source": [
    "ensemble_models = [RandomForestRegressor(), AdaBoostRegressor(), BaggingRegressor(), ExtraTreesRegressor(), GradientBoostingRegressor()]"
   ]
  },
  {
   "cell_type": "code",
   "execution_count": 43,
   "id": "a67eee17-fe16-413a-b02f-f868242eee97",
   "metadata": {},
   "outputs": [],
   "source": [
    "X_train, X_test, y_train, y_test = train_test_split(df.loc[:, ['JobTitle', 'JobArea', 'Gender', 'Ranking']], df.loc[:, 'TotalPay'])"
   ]
  },
  {
   "cell_type": "markdown",
   "id": "a3c69022-5fa3-4a4f-8adc-34068136cdce",
   "metadata": {},
   "source": [
    "We can't use all the columns at the same time, so for now our X column will be the untouched 'JobTitle' column."
   ]
  },
  {
   "cell_type": "code",
   "execution_count": 44,
   "id": "908c6cc5-3b8c-476f-88a9-f51a97ec062d",
   "metadata": {},
   "outputs": [],
   "source": [
    "tfidf = TfidfVectorizer(stop_words='english')\n",
    "X_train = tfidf.fit_transform(X_train.JobTitle)\n",
    "X_test = tfidf.transform(X_test.JobTitle)"
   ]
  },
  {
   "cell_type": "code",
   "execution_count": 45,
   "id": "f1597bae-3959-457c-985a-969032de7eef",
   "metadata": {},
   "outputs": [],
   "source": [
    "scaler = StandardScaler()\n",
    "X_train = scaler.fit_transform(X_train.toarray())\n",
    "X_test = scaler.transform(X_test.toarray())"
   ]
  },
  {
   "cell_type": "code",
   "execution_count": 73,
   "id": "182fdeec-5d26-4872-8734-2aa7dab3a8ab",
   "metadata": {},
   "outputs": [],
   "source": [
    "linear_scores = list()\n",
    "for model in linear_models:\n",
    "    model.fit(X_train, y_train)\n",
    "    linear_scores.append((str(model), model.score(X_test, y_test, )))"
   ]
  },
  {
   "cell_type": "code",
   "execution_count": 74,
   "id": "87d5eed9-4823-4980-83f2-de6655fa1c8c",
   "metadata": {},
   "outputs": [
    {
     "data": {
      "text/plain": [
       "[('TweedieRegressor()', 0.542589499526045),\n",
       " ('Ridge()', 0.6500361698088768),\n",
       " ('Lasso(max_iter=10000)', 0.6500441892666688),\n",
       " ('ElasticNet()', 0.6030248444357011),\n",
       " ('BayesianRidge()', 0.6487888441079244),\n",
       " ('ARDRegression()', 0.6489980981363576),\n",
       " ('SGDRegressor()', 0.6446060804523099),\n",
       " ('PassiveAggressiveRegressor()', 0.6377056021975629),\n",
       " ('HuberRegressor()', 0.6423435304469318)]"
      ]
     },
     "execution_count": 74,
     "metadata": {},
     "output_type": "execute_result"
    }
   ],
   "source": [
    "linear_scores"
   ]
  },
  {
   "cell_type": "code",
   "execution_count": 75,
   "id": "f8300bf4-cfdc-4f65-9593-9c67f3cead3b",
   "metadata": {},
   "outputs": [],
   "source": [
    "ensemble_scores = list()\n",
    "for model in ensemble_models:\n",
    "    model.fit(X_train, y_train)\n",
    "    ensemble_scores.append((str(model), model.score(X_test, y_test)))"
   ]
  },
  {
   "cell_type": "code",
   "execution_count": 76,
   "id": "adacec1f-c6fc-46dd-b98d-555fd332e5df",
   "metadata": {},
   "outputs": [
    {
     "data": {
      "text/plain": [
       "[('RandomForestRegressor()', 0.6511249955680062),\n",
       " ('AdaBoostRegressor()', 0.21670387421582415),\n",
       " ('BaggingRegressor()', 0.6513095422994818),\n",
       " ('ExtraTreesRegressor()', 0.6512015253100771),\n",
       " ('GradientBoostingRegressor()', 0.6139376392178657)]"
      ]
     },
     "execution_count": 76,
     "metadata": {},
     "output_type": "execute_result"
    }
   ],
   "source": [
    "ensemble_scores"
   ]
  },
  {
   "cell_type": "markdown",
   "id": "d328635d-f0e6-489a-8540-e30dfed6a7dc",
   "metadata": {},
   "source": [
    "The following dictionaries consist of some of the models and some of the hyperparameters that are going to be tuned."
   ]
  },
  {
   "cell_type": "code",
   "execution_count": 48,
   "id": "06226027-6c68-4b54-9365-b0c3efed7749",
   "metadata": {},
   "outputs": [],
   "source": [
    "pipe = Pipeline([\n",
    "    ('model',Ridge())\n",
    "])"
   ]
  },
  {
   "cell_type": "code",
   "execution_count": 49,
   "id": "99ead5d7-7e39-4ea3-a53b-bcff26fce668",
   "metadata": {},
   "outputs": [],
   "source": [
    "ridge_search = {\n",
    "    'model': [Ridge()],\n",
    "    'model__alpha': (1e-8, 1e+2, 'log-uniform'),\n",
    "}"
   ]
  },
  {
   "cell_type": "code",
   "execution_count": 50,
   "id": "4be6b3ee-4d3f-4f28-b75d-1ed176d4a4e0",
   "metadata": {},
   "outputs": [],
   "source": [
    "lasso_search = {\n",
    "    'model': [Lasso(max_iter=10000)],\n",
    "    'model__alpha': (1e-8, 1e+2, 'log-uniform'),\n",
    "}"
   ]
  },
  {
   "cell_type": "code",
   "execution_count": 51,
   "id": "8ed6ca27-9ee8-41db-bab0-1696cf0f4e67",
   "metadata": {},
   "outputs": [],
   "source": [
    "sgd_search = {\n",
    "    'model': [SGDRegressor(max_iter=500)],\n",
    "    'model__alpha': (1e-4, 1e+4, 'log-uniform'),\n",
    "    'model__loss': (['huber', 'squared_error', 'epsilon_insensitive', 'squared_epsilon_insensitive']),\n",
    "    'model__penalty': (['l1', 'l2', 'elasticnet']),\n",
    "    'model__epsilon': (1e-3, 1e+1, 'log-uniform'),\n",
    "}"
   ]
  },
  {
   "cell_type": "code",
   "execution_count": 52,
   "id": "8eb1b940-bbb0-4cae-bf78-4084a6aa980f",
   "metadata": {},
   "outputs": [],
   "source": [
    "huber_search = {\n",
    "    'model': [HuberRegressor()],\n",
    "    'model__alpha': (1e-4, 1e+4, 'log-uniform'),\n",
    "    'model__epsilon': (1e+0, 1e+2, 'log-uniform'),\n",
    "}"
   ]
  },
  {
   "cell_type": "code",
   "execution_count": 53,
   "id": "576934a6-f605-4a6a-809f-9e858b98cfd9",
   "metadata": {},
   "outputs": [],
   "source": [
    "bagging_search = {\n",
    "    'model': [BaggingRegressor()],\n",
    "    'model__n_estimators': (5, 20),\n",
    "    'model__max_samples': (1e-2, 1e+0, 'log-uniform')\n",
    "}"
   ]
  },
  {
   "cell_type": "code",
   "execution_count": 54,
   "id": "2dac8773-6fc5-4dc4-8079-a04bd8107aa6",
   "metadata": {},
   "outputs": [],
   "source": [
    "extratrees_search = {\n",
    "    'model': [ExtraTreesRegressor()],\n",
    "    'model__n_estimators': (20, 200),\n",
    "    'model__criterion': ['squared_error', 'absolute_error'],\n",
    "    'model__max_leaf_nodes': (20, 50),\n",
    "    'model__max_depth': (5, 15),\n",
    "    'model__min_samples_leaf': (5, 20),\n",
    "}"
   ]
  },
  {
   "cell_type": "markdown",
   "id": "c862184b-5f41-471d-86e8-73b606f5e89c",
   "metadata": {},
   "source": [
    "After some trials, we saw that the best 3 models are Ridge(), HuberRegressor() and BaggingRegressor(), so we will use the bayesian hyperparameter search on them. We could have performed this search on all the models, but it would take too much time, so we preferred to focus on only the very best of them."
   ]
  },
  {
   "cell_type": "code",
   "execution_count": 88,
   "id": "c2094b68-aa8b-4acd-a08e-c4e085277e28",
   "metadata": {},
   "outputs": [
    {
     "data": {
      "text/plain": [
       "BayesSearchCV(cv=5, estimator=Pipeline(steps=[('model', Ridge())]),\n",
       "              search_spaces=[({'model': [Ridge()],\n",
       "                               'model__alpha': (1e-08, 100.0, 'log-uniform')},\n",
       "                              50),\n",
       "                             ({'model': [HuberRegressor(alpha=0.0016061144717916772,\n",
       "                                                        epsilon=12.774624996944745)],\n",
       "                               'model__alpha': (0.0001, 10000.0, 'log-uniform'),\n",
       "                               'model__epsilon': (1.0, 100.0, 'log-uniform')},\n",
       "                              50),\n",
       "                             ({'model': [BaggingRegressor(max_samples=0.28935865373378983,\n",
       "                                                          n_estimators=14)],\n",
       "                               'model__max_samples': (0.01, 1.0, 'log-uniform'),\n",
       "                               'model__n_estimators': (5, 20)},\n",
       "                              50)])"
      ]
     },
     "execution_count": 88,
     "metadata": {},
     "output_type": "execute_result"
    }
   ],
   "source": [
    "opt = BayesSearchCV(\n",
    "    pipe,\n",
    "    [(ridge_search, 50), (huber_search, 50), (bagging_search, 50)],\n",
    "    cv=5\n",
    ")\n",
    "\n",
    "opt.fit(X_train, y_train)"
   ]
  },
  {
   "cell_type": "code",
   "execution_count": 89,
   "id": "e41688f2-f87e-47d6-9973-2f0514053f16",
   "metadata": {},
   "outputs": [],
   "source": [
    "model = opt.best_estimator_"
   ]
  },
  {
   "cell_type": "code",
   "execution_count": 90,
   "id": "ac708333-8c86-4c61-9aea-e5523ba50fa3",
   "metadata": {},
   "outputs": [
    {
     "data": {
      "text/plain": [
       "{'memory': None,\n",
       " 'steps': [('model',\n",
       "   BaggingRegressor(max_samples=0.28935865373378983, n_estimators=14))],\n",
       " 'verbose': False,\n",
       " 'model': BaggingRegressor(max_samples=0.28935865373378983, n_estimators=14),\n",
       " 'model__base_estimator': None,\n",
       " 'model__bootstrap': True,\n",
       " 'model__bootstrap_features': False,\n",
       " 'model__max_features': 1.0,\n",
       " 'model__max_samples': 0.28935865373378983,\n",
       " 'model__n_estimators': 14,\n",
       " 'model__n_jobs': None,\n",
       " 'model__oob_score': False,\n",
       " 'model__random_state': None,\n",
       " 'model__verbose': 0,\n",
       " 'model__warm_start': False}"
      ]
     },
     "execution_count": 90,
     "metadata": {},
     "output_type": "execute_result"
    }
   ],
   "source": [
    "model.get_params()"
   ]
  },
  {
   "cell_type": "code",
   "execution_count": 91,
   "id": "3be34cce-0d5f-4e8d-9bd6-206edc61e7c5",
   "metadata": {},
   "outputs": [
    {
     "data": {
      "text/plain": [
       "0.6511129167353588"
      ]
     },
     "execution_count": 91,
     "metadata": {},
     "output_type": "execute_result"
    }
   ],
   "source": [
    "model.score(X_test, y_test)"
   ]
  },
  {
   "cell_type": "markdown",
   "id": "466e09e2-3122-4772-9377-e1bf909c26f4",
   "metadata": {},
   "source": [
    "It hasn't improved the results at all. Let's see how the predictions look like."
   ]
  },
  {
   "cell_type": "code",
   "execution_count": 92,
   "id": "f3ba5360-b4f5-48d0-846a-74ef6b43fc4c",
   "metadata": {},
   "outputs": [
    {
     "data": {
      "text/plain": [
       "<AxesSubplot:ylabel='TotalPay'>"
      ]
     },
     "execution_count": 92,
     "metadata": {},
     "output_type": "execute_result"
    },
    {
     "data": {
      "image/png": "[encoded data removed]",
      "text/plain": [
       "<Figure size 432x288 with 1 Axes>"
      ]
     },
     "metadata": {
      "needs_background": "light"
     },
     "output_type": "display_data"
    }
   ],
   "source": [
    "sns.scatterplot(model.predict(X_test), y_test)"
   ]
  },
  {
   "cell_type": "code",
   "execution_count": null,
   "id": "118471b8-529d-4587-ac6f-fbee9d01dd8d",
   "metadata": {},
   "outputs": [],
   "source": []
  }
 ],
 "metadata": {
  "kernelspec": {
   "display_name": "Python 3 (ipykernel)",
   "language": "python",
   "name": "python3"
  },
  "language_info": {
   "codemirror_mode": {
    "name": "ipython",
    "version": 3
   },
   "file_extension": ".py",
   "mimetype": "text/x-python",
   "name": "python",
   "nbconvert_exporter": "python",
   "pygments_lexer": "ipython3",
   "version": "3.8.10"
  }
 },
 "nbformat": 4,
 "nbformat_minor": 5
}
